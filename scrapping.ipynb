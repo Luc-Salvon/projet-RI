{
 "cells": [
  {
   "cell_type": "code",
   "execution_count": null,
   "metadata": {},
   "outputs": [],
   "source": [
    "pip install wikipedia-api"
   ]
  },
  {
   "cell_type": "code",
   "execution_count": 4,
   "metadata": {},
   "outputs": [],
   "source": [
    "import wikipediaapi\n",
    "\n",
    "\n",
    "wiki_wiki = wikipediaapi.Wikipedia(\n",
    "    user_agent='MyProjectName',\n",
    "        language='en',\n",
    "        extract_format=wikipediaapi.ExtractFormat.WIKI\n",
    ")"
   ]
  },
  {
   "cell_type": "code",
   "execution_count": null,
   "metadata": {},
   "outputs": [],
   "source": [
    "from random import shuffle\n",
    "\n",
    "def url_categorymembers(categorymembers, store, level=0, max_level=1):\n",
    "    pages_cat = list(categorymembers.values())\n",
    "    shuffle(pages_cat)\n",
    "    i = 0 # nb de pages\n",
    "    for c in pages_cat:\n",
    "        if i==1000: #1000 pages par catégorie\n",
    "            break\n",
    "        if c.title[:6]!=\"Portal\" and c.title[:8]!=\"Category\":\n",
    "            i+=1\n",
    "            store.append(c.fullurl)\n",
    "        if c.ns == wikipediaapi.Namespace.CATEGORY and level < max_level:\n",
    "            url_categorymembers(c.categorymembers, store, level=level + 1, max_level=max_level)\n",
    "    return store\n",
    "\n",
    "\n",
    "\n",
    "\n",
    "cat_arts = wiki_wiki.page(\"Category:The arts\") # Arts\n",
    "arts = url_categorymembers(cat_arts.categorymembers,[])\n",
    "\n",
    "cat_games = wiki_wiki.page(\"Category:Games\") # Games\n",
    "games = url_categorymembers(cat_games.categorymembers,[])\n",
    "\n",
    "cat_youth = wiki_wiki.page(\"Category:Youth\") # Kids and Teens (not exact)\n",
    "youth = url_categorymembers(cat_youth.categorymembers,[])\n",
    "\n",
    "cat_reference = wiki_wiki.page(\"Category:Reference\") # Reference\n",
    "reference = url_categorymembers(cat_reference.categorymembers,[])\n",
    "\n",
    "cat_shopping = wiki_wiki.page(\"Category:Shopping (activity)\") # Shopping\n",
    "shopping = url_categorymembers(cat_shopping.categorymembers,[])\n",
    "\n",
    "cat_business = wiki_wiki.page(\"Category:Business\") # Business\n",
    "business = url_categorymembers(cat_business.categorymembers,[])\n",
    "\n",
    "cat_health = wiki_wiki.page(\"Category:Health\") # Health\n",
    "health = url_categorymembers(cat_health.categorymembers,[])\n",
    "\n",
    "cat_news = wiki_wiki.page(\"Category:News\") # News\n",
    "news = url_categorymembers(cat_news.categorymembers,[])\n",
    "\n",
    "cat_geography = wiki_wiki.page(\"Category:Geography\") # Regional (not exact)\n",
    "geography = url_categorymembers(cat_geography.categorymembers,[])\n",
    "\n",
    "cat_society = wiki_wiki.page(\"Category:Society\") # Society\n",
    "society = url_categorymembers(cat_society.categorymembers,[])\n",
    "\n",
    "cat_computers = wiki_wiki.page(\"Category:Computers\") # Computers\n",
    "computers = url_categorymembers(cat_computers.categorymembers,[])\n",
    "\n",
    "cat_home = wiki_wiki.page(\"Category:Home\") # Home\n",
    "home = url_categorymembers(cat_home.categorymembers,[])\n",
    "\n",
    "cat_recreation = wiki_wiki.page(\"Category:Recreation\") # Recreation\n",
    "recreation = url_categorymembers(cat_recreation.categorymembers,[])\n",
    "\n",
    "cat_science = wiki_wiki.page(\"Category:Science\") # Science\n",
    "science = url_categorymembers(cat_science.categorymembers,[])\n",
    "\n",
    "cat_sports = wiki_wiki.page(\"Category:Sports\") # Sports\n",
    "sports = url_categorymembers(cat_sports.categorymembers,[])\n",
    "\n",
    "cat_world = wiki_wiki.page(\"Category:World\") # World\n",
    "world = url_categorymembers(cat_world.categorymembers,[])"
   ]
  }
 ],
 "metadata": {
  "kernelspec": {
   "display_name": "base",
   "language": "python",
   "name": "python3"
  },
  "language_info": {
   "codemirror_mode": {
    "name": "ipython",
    "version": 3
   },
   "file_extension": ".py",
   "mimetype": "text/x-python",
   "name": "python",
   "nbconvert_exporter": "python",
   "pygments_lexer": "ipython3",
   "version": "3.11.4"
  }
 },
 "nbformat": 4,
 "nbformat_minor": 2
}
