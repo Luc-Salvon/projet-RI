{
 "cells": [
  {
   "cell_type": "code",
   "execution_count": null,
   "metadata": {},
   "outputs": [],
   "source": [
    "pip install wikipedia-api"
   ]
  },
  {
   "cell_type": "code",
   "execution_count": 3,
   "metadata": {},
   "outputs": [],
   "source": [
    "import wikipediaapi\n",
    "\n",
    "\n",
    "wiki_wiki = wikipediaapi.Wikipedia(\n",
    "    user_agent='MyProjectName',\n",
    "        language='en',\n",
    "        extract_format=wikipediaapi.ExtractFormat.WIKI\n",
    ")"
   ]
  },
  {
   "cell_type": "markdown",
   "metadata": {},
   "source": [
    "##  Get links for each category"
   ]
  },
  {
   "cell_type": "code",
   "execution_count": 8,
   "metadata": {},
   "outputs": [],
   "source": [
    "from random import shuffle\n",
    "\n",
    "def url_categorymembers(categorymembers, list_urls=[], list_pages=[], level=0, max_level=1):\n",
    "    pages_cat = list(categorymembers.values()) #toutes les pages de la catégorie\n",
    "\n",
    "    shuffle(pages_cat)\n",
    "\n",
    "    i = 0 # nb de pages\n",
    "\n",
    "    for c in pages_cat:\n",
    "        if i==1000: #1000 pages par catégorie\n",
    "            break\n",
    "\n",
    "        if c.title[:6]!=\"Portal\" and c.title[:8]!=\"Category\": # vérifie que c'est bien un article\n",
    "            i+=1\n",
    "            list_urls.append(c.fullurl)\n",
    "            list_pages.append(c)\n",
    "\n",
    "        if c.ns == wikipediaapi.Namespace.CATEGORY and level < max_level: # descend d'un niveau\n",
    "            url_categorymembers(c.categorymembers, list_urls, list_pages, level=level + 1, max_level=max_level)\n",
    "\n",
    "    return list_urls, list_pages"
   ]
  },
  {
   "cell_type": "code",
   "execution_count": 9,
   "metadata": {},
   "outputs": [],
   "source": [
    "cat_arts = wiki_wiki.page(\"Category:The arts\") # Arts\n",
    "arts, arts_pages = url_categorymembers(cat_arts.categorymembers)"
   ]
  },
  {
   "cell_type": "code",
   "execution_count": null,
   "metadata": {},
   "outputs": [],
   "source": [
    "cat_games = wiki_wiki.page(\"Category:Games\") # Games\n",
    "games, games_pages = url_categorymembers(cat_games.categorymembers)"
   ]
  },
  {
   "cell_type": "code",
   "execution_count": null,
   "metadata": {},
   "outputs": [],
   "source": [
    "cat_youth = wiki_wiki.page(\"Category:Youth\") # Kids and Teens (not exact)\n",
    "youth, youth_pages = url_categorymembers(cat_youth.categorymembers)"
   ]
  },
  {
   "cell_type": "code",
   "execution_count": null,
   "metadata": {},
   "outputs": [],
   "source": [
    "cat_reference = wiki_wiki.page(\"Category:Reference\") # Reference\n",
    "reference, reference_pages = url_categorymembers(cat_reference.categorymembers)"
   ]
  },
  {
   "cell_type": "code",
   "execution_count": null,
   "metadata": {},
   "outputs": [],
   "source": [
    "cat_shopping = wiki_wiki.page(\"Category:Shopping (activity)\") # Shopping\n",
    "shopping, shopping_pages = url_categorymembers(cat_shopping.categorymembers)"
   ]
  },
  {
   "cell_type": "code",
   "execution_count": null,
   "metadata": {},
   "outputs": [],
   "source": [
    "cat_business = wiki_wiki.page(\"Category:Business\") # Business\n",
    "business, business_pages = url_categorymembers(cat_business.categorymembers)"
   ]
  },
  {
   "cell_type": "code",
   "execution_count": null,
   "metadata": {},
   "outputs": [],
   "source": [
    "cat_health = wiki_wiki.page(\"Category:Health\") # Health\n",
    "health, health_pages = url_categorymembers(cat_health.categorymembers)"
   ]
  },
  {
   "cell_type": "code",
   "execution_count": null,
   "metadata": {},
   "outputs": [],
   "source": [
    "cat_news = wiki_wiki.page(\"Category:News\") # News\n",
    "news, news_pages = url_categorymembers(cat_news.categorymembers)"
   ]
  },
  {
   "cell_type": "code",
   "execution_count": null,
   "metadata": {},
   "outputs": [],
   "source": [
    "cat_geography = wiki_wiki.page(\"Category:Geography\") # Regional (not exact)\n",
    "geography, geography_pages = url_categorymembers(cat_geography.categorymembers)"
   ]
  },
  {
   "cell_type": "code",
   "execution_count": null,
   "metadata": {},
   "outputs": [],
   "source": [
    "cat_society = wiki_wiki.page(\"Category:Society\") # Society\n",
    "society, society_pages = url_categorymembers(cat_society.categorymembers)"
   ]
  },
  {
   "cell_type": "code",
   "execution_count": null,
   "metadata": {},
   "outputs": [],
   "source": [
    "cat_computers = wiki_wiki.page(\"Category:Computers\") # Computers\n",
    "computers, computers_pages = url_categorymembers(cat_computers.categorymembers)"
   ]
  },
  {
   "cell_type": "code",
   "execution_count": null,
   "metadata": {},
   "outputs": [],
   "source": [
    "cat_home = wiki_wiki.page(\"Category:Home\") # Home\n",
    "home, home_pages = url_categorymembers(cat_home.categorymembers)"
   ]
  },
  {
   "cell_type": "code",
   "execution_count": null,
   "metadata": {},
   "outputs": [],
   "source": [
    "cat_recreation = wiki_wiki.page(\"Category:Recreation\") # Recreation\n",
    "recreation, recreation_pages = url_categorymembers(cat_recreation.categorymembers)"
   ]
  },
  {
   "cell_type": "code",
   "execution_count": null,
   "metadata": {},
   "outputs": [],
   "source": [
    "cat_science = wiki_wiki.page(\"Category:Science\") # Science\n",
    "science, science_pages = url_categorymembers(cat_science.categorymembers)"
   ]
  },
  {
   "cell_type": "code",
   "execution_count": null,
   "metadata": {},
   "outputs": [],
   "source": [
    "cat_sports = wiki_wiki.page(\"Category:Sports\") # Sports\n",
    "sports, sports_pages = url_categorymembers(cat_sports.categorymembers)"
   ]
  },
  {
   "cell_type": "code",
   "execution_count": null,
   "metadata": {},
   "outputs": [],
   "source": [
    "cat_world = wiki_wiki.page(\"Category:World\") # World\n",
    "world, world_pages = url_categorymembers(cat_world.categorymembers)"
   ]
  },
  {
   "cell_type": "code",
   "execution_count": null,
   "metadata": {},
   "outputs": [],
   "source": [
    "topics = {\n",
    "    \"Arts\": (arts, arts_pages),\n",
    "    \"Games\": (games, games_pages),\n",
    "    \"Youth\": (youth, youth_pages),\n",
    "    \"Reference\": (reference, reference_pages),\n",
    "    \"Shopping\": (shopping, shopping_pages),\n",
    "    \"Business\": (business, business_pages),\n",
    "    \"Health\": (health, health_pages),\n",
    "    \"News\": (news, news_pages),\n",
    "    \"Geography\": (geography, geography_pages),\n",
    "    \"Society\": (society, society_pages),\n",
    "    \"Computers\": (computers, computers_pages),\n",
    "    \"Home\": (home, home_pages),\n",
    "    \"Recreation\": (recreation, recreation_pages),\n",
    "    \"Science\": (science, science_pages),\n",
    "    \"Sports\": (sports, sports_pages),\n",
    "    \"World\": (world, world_pages)\n",
    "}"
   ]
  },
  {
   "cell_type": "markdown",
   "metadata": {},
   "source": [
    "## Compute Page Rank vectors"
   ]
  },
  {
   "cell_type": "code",
   "execution_count": 10,
   "metadata": {},
   "outputs": [],
   "source": [
    "import numpy as np\n",
    "\n",
    "# extract links from a Wikipedia page\n",
    "def page_links(page):\n",
    "        links = page.links\n",
    "        links2 = []\n",
    "        for p in links.values():\n",
    "            try:\n",
    "                url = p.fullurl\n",
    "            except:\n",
    "                url = None\n",
    "            if url is not None:\n",
    "                links2.append(url)\n",
    "        return links2\n",
    "\n",
    "# build the adjacency matrix\n",
    "def build_adjacency_matrix(urls, pages):\n",
    "    num_pages = len(urls)\n",
    "    adjacency_matrix = np.zeros((num_pages, num_pages))\n",
    "\n",
    "    for i, url in enumerate(urls):\n",
    "        links = page_links(pages[i])\n",
    "        for link in links:\n",
    "            if link in urls:\n",
    "                j = urls.index(link)\n",
    "                adjacency_matrix[i][j] = 1\n",
    "\n",
    "    return adjacency_matrix\n",
    "\n",
    "# compute PageRank scores\n",
    "def compute_pagerank(adjacency_matrix, damping_factor=0.85):\n",
    "    num_pages = adjacency_matrix.shape[0]\n",
    "    teleportation_matrix = np.ones((num_pages, num_pages)) / num_pages\n",
    "    topic_vector = np.ones(num_pages) / num_pages\n",
    "\n",
    "    topic_sensitive_matrix = damping_factor * adjacency_matrix + (1 - damping_factor) * teleportation_matrix\n",
    "\n",
    "    pagerank_scores = np.ones(num_pages) / num_pages\n",
    "    old_pagerank_scores = np.zeros(num_pages)\n",
    "\n",
    "    epsilon = 1.0e-5\n",
    "    max_iterations = 100\n",
    "    iterations = 0\n",
    "\n",
    "    while np.sum(np.abs(pagerank_scores - old_pagerank_scores)) > epsilon and iterations < max_iterations:\n",
    "        old_pagerank_scores = pagerank_scores.copy()\n",
    "        pagerank_scores = np.dot(topic_sensitive_matrix, pagerank_scores)\n",
    "        iterations += 1\n",
    "\n",
    "    return pagerank_scores\n",
    "\n",
    "\n"
   ]
  },
  {
   "cell_type": "code",
   "execution_count": null,
   "metadata": {},
   "outputs": [],
   "source": [
    "# Compute PageRank scores for each topic\n",
    "\n",
    "topic_pagerank_scores = {}\n",
    "for topic, (urls, pages) in topics.items():\n",
    "    adjacency_matrix = build_adjacency_matrix(urls, pages)\n",
    "    pagerank_scores = compute_pagerank(adjacency_matrix)\n",
    "    topic_pagerank_scores[topic] = pagerank_scores\n",
    "\n",
    "# Print PageRank scores for each topic\n",
    "for topic, scores in topic_pagerank_scores.items():\n",
    "    print(f\"Topic: {topic}\")\n",
    "    for url, score in zip(topics[topic], scores):\n",
    "        print(f\"{url}: {score}\")\n",
    "    print()"
   ]
  },
  {
   "cell_type": "code",
   "execution_count": 12,
   "metadata": {},
   "outputs": [],
   "source": [
    "build_adjacency_matrix(arts,arts_pages)"
   ]
  }
 ],
 "metadata": {
  "kernelspec": {
   "display_name": "base",
   "language": "python",
   "name": "python3"
  },
  "language_info": {
   "codemirror_mode": {
    "name": "ipython",
    "version": 3
   },
   "file_extension": ".py",
   "mimetype": "text/x-python",
   "name": "python",
   "nbconvert_exporter": "python",
   "pygments_lexer": "ipython3",
   "version": "3.11.4"
  }
 },
 "nbformat": 4,
 "nbformat_minor": 2
}
