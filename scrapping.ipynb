{
 "cells": [
  {
   "cell_type": "code",
   "execution_count": 14,
   "metadata": {},
   "outputs": [],
   "source": [
    "import pandas as pd\n",
    "import numpy as np\n",
    "import ast\n",
    "import pickle"
   ]
  },
  {
   "cell_type": "code",
   "execution_count": null,
   "metadata": {},
   "outputs": [],
   "source": [
    "#pip install wikipedia-api"
   ]
  },
  {
   "cell_type": "code",
   "execution_count": 12,
   "metadata": {},
   "outputs": [],
   "source": [
    "import wikipediaapi\n",
    "\n",
    "\n",
    "wiki_wiki = wikipediaapi.Wikipedia(\n",
    "    user_agent='MyProjectName',\n",
    "        language='en',\n",
    "        extract_format=wikipediaapi.ExtractFormat.WIKI\n",
    ")"
   ]
  },
  {
   "cell_type": "markdown",
   "metadata": {},
   "source": [
    "#  Get data for each category"
   ]
  },
  {
   "cell_type": "code",
   "execution_count": 3,
   "metadata": {},
   "outputs": [],
   "source": [
    "from random import shuffle\n",
    "\n",
    "\n",
    "def url_categorymembers(categorymembers,list_pages=[], level=0, max_level=3, i=0):\n",
    "    pages_cat = list(categorymembers.values()) #toutes les pages de la catégorie\n",
    "    shuffle(pages_cat)\n",
    "\n",
    "    for c in pages_cat:\n",
    "        if i==1000: #1000 pages par catégorie\n",
    "            break\n",
    "\n",
    "        if c.title[:6]!=\"Portal\" and c.title[:5]!=\"File:\" and c.title[:8]!=\"Category\": # vérifie que c'est bien un article\n",
    "            i+=1\n",
    "            d = {}\n",
    "            d[\"titre\"] = c.title\n",
    "            d[\"contenu\"] = c.text\n",
    "            d[\"liens\"] = list(c.links.keys())\n",
    "            list_pages.append(d)\n",
    "\n",
    "        if c.ns == wikipediaapi.Namespace.CATEGORY and level < max_level: # descend d'un niveau\n",
    "            i = url_categorymembers(c.categorymembers, list_pages, level=level + 1, max_level=max_level, i=i)[1]\n",
    "\n",
    "    return list_pages, i"
   ]
  },
  {
   "cell_type": "code",
   "execution_count": null,
   "metadata": {},
   "outputs": [],
   "source": [
    "cat_arts = wiki_wiki.page(\"Category:The arts\") # Arts\n",
    "arts, _ = url_categorymembers(cat_arts.categorymembers)\n",
    "pd.DataFrame(arts).to_csv('arts.csv')"
   ]
  },
  {
   "cell_type": "code",
   "execution_count": null,
   "metadata": {},
   "outputs": [],
   "source": [
    "cat_games = wiki_wiki.page(\"Category:Games\") # Games\n",
    "games, _= url_categorymembers(cat_games.categorymembers)\n",
    "\n",
    "pd.DataFrame(games).to_csv('games.csv')"
   ]
  },
  {
   "cell_type": "code",
   "execution_count": null,
   "metadata": {},
   "outputs": [],
   "source": [
    "cat_youth = wiki_wiki.page(\"Category:Youth\") # Kids and Teens (not exact)\n",
    "youth, _ = url_categorymembers(cat_youth.categorymembers)\n",
    "\n",
    "pd.DataFrame(youth).to_csv('youth.csv')"
   ]
  },
  {
   "cell_type": "code",
   "execution_count": null,
   "metadata": {},
   "outputs": [],
   "source": [
    "cat_reference = wiki_wiki.page(\"Category:Reference\") # Reference\n",
    "reference, _ = url_categorymembers(cat_reference.categorymembers)\n",
    "\n",
    "pd.DataFrame(reference).to_csv('reference.csv')"
   ]
  },
  {
   "cell_type": "code",
   "execution_count": null,
   "metadata": {},
   "outputs": [],
   "source": [
    "cat_shopping = wiki_wiki.page(\"Category:Retailing\") # Shopping\n",
    "shopping, _ = url_categorymembers(cat_shopping.categorymembers)\n",
    "\n",
    "pd.DataFrame(shopping).to_csv('shopping.csv')"
   ]
  },
  {
   "cell_type": "code",
   "execution_count": null,
   "metadata": {},
   "outputs": [],
   "source": [
    "cat_business = wiki_wiki.page(\"Category:Business\") # Business\n",
    "business, _ = url_categorymembers(cat_business.categorymembers)\n",
    "\n",
    "pd.DataFrame(business).to_csv('business.csv')"
   ]
  },
  {
   "cell_type": "code",
   "execution_count": null,
   "metadata": {},
   "outputs": [],
   "source": [
    "cat_health = wiki_wiki.page(\"Category:Health\") # Health\n",
    "health, _ = url_categorymembers(cat_health.categorymembers)\n",
    "\n",
    "pd.DataFrame(health).to_csv('health.csv')"
   ]
  },
  {
   "cell_type": "code",
   "execution_count": null,
   "metadata": {},
   "outputs": [],
   "source": [
    "cat_news = wiki_wiki.page(\"Category:News\") # News\n",
    "news, _ = url_categorymembers(cat_news.categorymembers)\n",
    "\n",
    "pd.DataFrame(news).to_csv('news.csv')"
   ]
  },
  {
   "cell_type": "code",
   "execution_count": null,
   "metadata": {},
   "outputs": [],
   "source": [
    "cat_geography = wiki_wiki.page(\"Category:Geography\") # Regional (not exact)\n",
    "geography, _ = url_categorymembers(cat_geography.categorymembers)\n",
    "\n",
    "pd.DataFrame(geography).to_csv('geography.csv')"
   ]
  },
  {
   "cell_type": "code",
   "execution_count": null,
   "metadata": {},
   "outputs": [],
   "source": [
    "cat_society = wiki_wiki.page(\"Category:Society\") # Society\n",
    "society, _ = url_categorymembers(cat_society.categorymembers)\n",
    "\n",
    "pd.DataFrame(society).to_csv('society.csv')"
   ]
  },
  {
   "cell_type": "code",
   "execution_count": null,
   "metadata": {},
   "outputs": [],
   "source": [
    "cat_computers = wiki_wiki.page(\"Category:Computers\") # Computers\n",
    "computers, _ = url_categorymembers(cat_computers.categorymembers)\n",
    "\n",
    "pd.DataFrame(computers).to_csv('computers.csv')"
   ]
  },
  {
   "cell_type": "code",
   "execution_count": null,
   "metadata": {},
   "outputs": [],
   "source": [
    "cat_home = wiki_wiki.page(\"Category:Home\") # Home\n",
    "home, _ = url_categorymembers(cat_home.categorymembers)\n",
    "\n",
    "pd.DataFrame(home).to_csv('home.csv')"
   ]
  },
  {
   "cell_type": "code",
   "execution_count": null,
   "metadata": {},
   "outputs": [],
   "source": [
    "cat_recreation = wiki_wiki.page(\"Category:Recreation\") # Recreation\n",
    "recreation, _ = url_categorymembers(cat_recreation.categorymembers)\n",
    "\n",
    "pd.DataFrame(recreation).to_csv('recreation.csv')"
   ]
  },
  {
   "cell_type": "code",
   "execution_count": null,
   "metadata": {},
   "outputs": [],
   "source": [
    "cat_science = wiki_wiki.page(\"Category:Science\") # Science\n",
    "science, _ = url_categorymembers(cat_science.categorymembers)\n",
    "\n",
    "pd.DataFrame(science).to_csv('science.csv')"
   ]
  },
  {
   "cell_type": "code",
   "execution_count": null,
   "metadata": {},
   "outputs": [],
   "source": [
    "cat_sports = wiki_wiki.page(\"Category:Sports\") # Sports\n",
    "sports, _ = url_categorymembers(cat_sports.categorymembers)\n",
    "\n",
    "pd.DataFrame(sports).to_csv('sports.csv')"
   ]
  },
  {
   "cell_type": "code",
   "execution_count": null,
   "metadata": {},
   "outputs": [],
   "source": [
    "cat_world = wiki_wiki.page(\"Category:World\") # World\n",
    "world, _ = url_categorymembers(cat_world.categorymembers)\n",
    "\n",
    "pd.DataFrame(world).to_csv('world.csv')"
   ]
  },
  {
   "cell_type": "code",
   "execution_count": 53,
   "metadata": {},
   "outputs": [],
   "source": [
    "csv_files = [\n",
    "    'arts.csv', 'business.csv', 'computers.csv', 'games.csv',\n",
    "    'geography.csv', 'health.csv', 'home.csv', 'news.csv',\n",
    "    'recreation.csv', 'reference.csv', 'science.csv', 'shopping.csv',\n",
    "    'society.csv', 'sports.csv', 'world.csv', 'youth.csv'\n",
    "]\n",
    "\n",
    "# Liste pour stocker les DataFrames\n",
    "dataframes = []\n",
    "\n",
    "# Lire chaque fichier CSV et l'ajouter à la liste des DataFrames\n",
    "for file in csv_files:\n",
    "    df = pd.read_csv(f'./Data/{file}')\n",
    "    dataframes.append(df)\n",
    "\n",
    "# Combiner tous les DataFrames en un seul\n",
    "combined_df = pd.concat(dataframes, ignore_index=True)\n",
    "\n",
    "# Écrire le DataFrame combiné dans un nouveau fichier CSV\n",
    "combined_df.to_csv('./Data/all.csv', index=False)"
   ]
  },
  {
   "cell_type": "markdown",
   "metadata": {},
   "source": [
    "# Compute Page Rank vectors (3.2)"
   ]
  },
  {
   "cell_type": "markdown",
   "metadata": {},
   "source": [
    "## Matrices d'adjacence"
   ]
  },
  {
   "cell_type": "markdown",
   "metadata": {},
   "source": [
    "Construction de la matrice sans utiliser les fichiers :"
   ]
  },
  {
   "cell_type": "code",
   "execution_count": 4,
   "metadata": {},
   "outputs": [],
   "source": [
    "# build the adjacency matrix\n",
    "def build_adjacency_matrix_2(df): #pas optimisé\n",
    "    num_pages = df.shape[0]\n",
    "    adjacency_matrix = np.zeros((num_pages, num_pages))\n",
    "    df[\"liens\"] = df[\"liens\"].apply(ast.literal_eval)\n",
    "    \n",
    "    for index, row in df.iterrows():\n",
    "        N = len(np.where(np.isin(row['liens'],df['titre'].values))[0]) # nombres de liens que fait la page\n",
    "        for link in row['liens']:\n",
    "            if link in df['titre'].values:\n",
    "                j = np.where(df['titre'] == link )[0]\n",
    "                adjacency_matrix[j,index] += 1/N\n",
    "\n",
    "    return adjacency_matrix\n",
    "\n",
    "\n",
    "\n",
    "def build_adjacency_matrix(df):\n",
    "    df[\"liens\"] = df[\"liens\"].apply(ast.literal_eval)  # Convertir les liens de type string en listes\n",
    "\n",
    "    # Créer un dictionnaire pour mapper les titres aux indices\n",
    "    title_to_index = {title: i for i, title in enumerate(df['titre'])}\n",
    "    \n",
    "    # Initialiser la matrice d'adjacence avec des zéros\n",
    "    num_pages = len(df)\n",
    "    adjacency_matrix = np.zeros((num_pages, num_pages))\n",
    "    \n",
    "    # Construire une série pour mapper les liens aux indices\n",
    "    link_series = pd.Series(df['liens'].values.tolist())\n",
    "    link_indices = link_series.map(lambda x: [title_to_index[link] for link in x if link in title_to_index])\n",
    "    \n",
    "    # Compter le nombre de liens sortants pour chaque article\n",
    "    df['num_liens'] = link_indices.apply(len)\n",
    "    \n",
    "    for i, indices in enumerate(link_indices):\n",
    "        if len(indices)>0:\n",
    "            adjacency_matrix[indices, i] = 1 / df.at[i, 'num_liens']\n",
    "    \n",
    "    return adjacency_matrix"
   ]
  },
  {
   "cell_type": "code",
   "execution_count": 108,
   "metadata": {},
   "outputs": [],
   "source": [
    "matrice_all= build_adjacency_matrix(pd.read_csv('./Data/all.csv'))\n",
    "np.save('./Matrices/matrice_all.npy', matrice_all)"
   ]
  },
  {
   "cell_type": "markdown",
   "metadata": {},
   "source": [
    "Construction de la matrice en utilisant les fichiers :"
   ]
  },
  {
   "cell_type": "code",
   "execution_count": null,
   "metadata": {},
   "outputs": [],
   "source": [
    "fichier_graphe = pd.read_csv('enwiki.wikilink_graph.2018-03-01.csv')\n",
    "\n",
    "# build the adjacency matrix\n",
    "def build_adjacency_matrix(topic_articles, inversed_index_articles):\n",
    "    num_pages = len(topic_articles)\n",
    "    adjacency_matrix = np.zeros((num_pages, num_pages))\n",
    "\n",
    "    for i,titre in enumerate(topic_articles):\n",
    "        #links = page_links(pages[i])\n",
    "        links = fichier_graphe[fichier_graphe['page_title_from']==titre]\n",
    "        for link in links:\n",
    "            if link in topic_articles:\n",
    "                j = topic_articles.index(link)\n",
    "                adjacency_matrix[j][i] = 1\n",
    "\n",
    "    return adjacency_matrix/sum(adjacency_matrix,axis=0)\n",
    "\n"
   ]
  },
  {
   "cell_type": "markdown",
   "metadata": {},
   "source": [
    "## Calcul des vecteurs"
   ]
  },
  {
   "cell_type": "code",
   "execution_count": 13,
   "metadata": {},
   "outputs": [],
   "source": [
    "# compute PageRank scores\n",
    "def compute_pagerank(M, alpha=0.25, bias = None): # bias = None pour page_rank normal, bias = topic sinon\n",
    "    # M = adjacency_matrix\n",
    "    # damping_factor = 1-alpha\n",
    "\n",
    "    N = M.shape[0]\n",
    "\n",
    "    if bias is None : # page_rank normal, pas topic_sensitive\n",
    "        p = np.ones(N) / N \n",
    "\n",
    "    else: # ODP-biasing \n",
    "        articles = pd.read_csv(f'./Data/all.csv')[\"titre\"].values\n",
    "        articles_cat = pd.read_csv(f'./Data/{bias}.csv')[\"titre\"].values\n",
    "        p = np.where(np.isin(articles,articles_cat), 1/len(articles_cat), 0)\n",
    "\n",
    "    #M_prime = (1-alpha) * M + alpha * teleportation_matrix\n",
    "\n",
    "    rank = np.ones(N) / N\n",
    "    old_rank = np.zeros(N)\n",
    "\n",
    "    epsilon = 1.0e-3\n",
    "    max_iterations = 10\n",
    "    iterations = 0\n",
    "\n",
    "    while np.sum(np.abs(rank - old_rank)) > epsilon and iterations < max_iterations:\n",
    "        old_rank = rank.copy()\n",
    "        rank = (1-alpha)*M @ rank + p # equation 5\n",
    "        #normaliser ?\n",
    "        iterations += 1\n",
    "\n",
    "    return rank"
   ]
  },
  {
   "cell_type": "code",
   "metadata": {
    "ExecuteTime": {
     "end_time": "2024-05-21T23:51:51.476135Z",
     "start_time": "2024-05-21T23:51:51.421210Z"
    }
   },
   "source": [
    "# Compute PageRank scores for each topic\n",
    "import numpy as np\n",
    "\n",
    "Topic_names = [\"arts\",\"games\",\"youth\",\"reference\", \"shopping\", \"business\", \"health\", \"news\",\"geography\",\"society\",\"computers\",\"home\",\"recreation\",\"science\",\"sports\",\"world\"]\n",
    "\n",
    "adjacency_matrix = np.load(f'./Matrices/matrice_all.npy')\n",
    "\n",
    "topic_pagerank = {}\n",
    "for topic in Topic_names:\n",
    "    #adjacency_matrix = np.load(f'./Matrices/matrice_{topic}.npy')\n",
    "    \n",
    "    pagerank_scores = compute_pagerank(adjacency_matrix,bias=topic)\n",
    "\n",
    "    print(f\"Topic: {topic}\")\n",
    "    print(pagerank_scores[:5])\n",
    "\n",
    "    topic_pagerank[topic] = pagerank_scores\n",
    "\n",
    "    "
   ],
   "outputs": [
    {
     "ename": "FileNotFoundError",
     "evalue": "[Errno 2] No such file or directory: './Matrices/matrice_all.npy'",
     "output_type": "error",
     "traceback": [
      "\u001B[0;31m---------------------------------------------------------------------------\u001B[0m",
      "\u001B[0;31mFileNotFoundError\u001B[0m                         Traceback (most recent call last)",
      "Cell \u001B[0;32mIn[2], line 6\u001B[0m\n\u001B[1;32m      2\u001B[0m \u001B[38;5;28;01mimport\u001B[39;00m \u001B[38;5;21;01mnumpy\u001B[39;00m \u001B[38;5;28;01mas\u001B[39;00m \u001B[38;5;21;01mnp\u001B[39;00m\n\u001B[1;32m      4\u001B[0m Topic_names \u001B[38;5;241m=\u001B[39m [\u001B[38;5;124m\"\u001B[39m\u001B[38;5;124marts\u001B[39m\u001B[38;5;124m\"\u001B[39m,\u001B[38;5;124m\"\u001B[39m\u001B[38;5;124mgames\u001B[39m\u001B[38;5;124m\"\u001B[39m,\u001B[38;5;124m\"\u001B[39m\u001B[38;5;124myouth\u001B[39m\u001B[38;5;124m\"\u001B[39m,\u001B[38;5;124m\"\u001B[39m\u001B[38;5;124mreference\u001B[39m\u001B[38;5;124m\"\u001B[39m, \u001B[38;5;124m\"\u001B[39m\u001B[38;5;124mshopping\u001B[39m\u001B[38;5;124m\"\u001B[39m, \u001B[38;5;124m\"\u001B[39m\u001B[38;5;124mbusiness\u001B[39m\u001B[38;5;124m\"\u001B[39m, \u001B[38;5;124m\"\u001B[39m\u001B[38;5;124mhealth\u001B[39m\u001B[38;5;124m\"\u001B[39m, \u001B[38;5;124m\"\u001B[39m\u001B[38;5;124mnews\u001B[39m\u001B[38;5;124m\"\u001B[39m,\u001B[38;5;124m\"\u001B[39m\u001B[38;5;124mgeography\u001B[39m\u001B[38;5;124m\"\u001B[39m,\u001B[38;5;124m\"\u001B[39m\u001B[38;5;124msociety\u001B[39m\u001B[38;5;124m\"\u001B[39m,\u001B[38;5;124m\"\u001B[39m\u001B[38;5;124mcomputers\u001B[39m\u001B[38;5;124m\"\u001B[39m,\u001B[38;5;124m\"\u001B[39m\u001B[38;5;124mhome\u001B[39m\u001B[38;5;124m\"\u001B[39m,\u001B[38;5;124m\"\u001B[39m\u001B[38;5;124mrecreation\u001B[39m\u001B[38;5;124m\"\u001B[39m,\u001B[38;5;124m\"\u001B[39m\u001B[38;5;124mscience\u001B[39m\u001B[38;5;124m\"\u001B[39m,\u001B[38;5;124m\"\u001B[39m\u001B[38;5;124msports\u001B[39m\u001B[38;5;124m\"\u001B[39m,\u001B[38;5;124m\"\u001B[39m\u001B[38;5;124mworld\u001B[39m\u001B[38;5;124m\"\u001B[39m]\n\u001B[0;32m----> 6\u001B[0m adjacency_matrix \u001B[38;5;241m=\u001B[39m \u001B[43mnp\u001B[49m\u001B[38;5;241;43m.\u001B[39;49m\u001B[43mload\u001B[49m\u001B[43m(\u001B[49m\u001B[38;5;124;43mf\u001B[39;49m\u001B[38;5;124;43m'\u001B[39;49m\u001B[38;5;124;43m./Matrices/matrice_all.npy\u001B[39;49m\u001B[38;5;124;43m'\u001B[39;49m\u001B[43m)\u001B[49m\n\u001B[1;32m      8\u001B[0m topic_pagerank \u001B[38;5;241m=\u001B[39m {}\n\u001B[1;32m      9\u001B[0m \u001B[38;5;28;01mfor\u001B[39;00m topic \u001B[38;5;129;01min\u001B[39;00m Topic_names:\n\u001B[1;32m     10\u001B[0m     \u001B[38;5;66;03m#adjacency_matrix = np.load(f'./Matrices/matrice_{topic}.npy')\u001B[39;00m\n",
      "File \u001B[0;32m/opt/homebrew/lib/python3.11/site-packages/numpy/lib/npyio.py:427\u001B[0m, in \u001B[0;36mload\u001B[0;34m(file, mmap_mode, allow_pickle, fix_imports, encoding, max_header_size)\u001B[0m\n\u001B[1;32m    425\u001B[0m     own_fid \u001B[38;5;241m=\u001B[39m \u001B[38;5;28;01mFalse\u001B[39;00m\n\u001B[1;32m    426\u001B[0m \u001B[38;5;28;01melse\u001B[39;00m:\n\u001B[0;32m--> 427\u001B[0m     fid \u001B[38;5;241m=\u001B[39m stack\u001B[38;5;241m.\u001B[39menter_context(\u001B[38;5;28;43mopen\u001B[39;49m\u001B[43m(\u001B[49m\u001B[43mos_fspath\u001B[49m\u001B[43m(\u001B[49m\u001B[43mfile\u001B[49m\u001B[43m)\u001B[49m\u001B[43m,\u001B[49m\u001B[43m \u001B[49m\u001B[38;5;124;43m\"\u001B[39;49m\u001B[38;5;124;43mrb\u001B[39;49m\u001B[38;5;124;43m\"\u001B[39;49m\u001B[43m)\u001B[49m)\n\u001B[1;32m    428\u001B[0m     own_fid \u001B[38;5;241m=\u001B[39m \u001B[38;5;28;01mTrue\u001B[39;00m\n\u001B[1;32m    430\u001B[0m \u001B[38;5;66;03m# Code to distinguish from NumPy binary files and pickles.\u001B[39;00m\n",
      "\u001B[0;31mFileNotFoundError\u001B[0m: [Errno 2] No such file or directory: './Matrices/matrice_all.npy'"
     ]
    }
   ],
   "execution_count": 2
  },
  {
   "cell_type": "code",
   "execution_count": 114,
   "metadata": {},
   "outputs": [],
   "source": [
    "with open('topic_pagerank.pkl', 'wb') as fichier:\n",
    "    pickle.dump(topic_pagerank, fichier)"
   ]
  },
  {
   "cell_type": "code",
   "execution_count": null,
   "metadata": {},
   "outputs": [],
   "source": [
    "adjacency_matrix = np.load(f'./Matrices/matrice_all.npy')\n",
    "pagerank_normal = compute_pagerank(adjacency_matrix,bias=None)\n",
    "with open('normal_pagerank.pkl', 'wb') as fichier:\n",
    "    pickle.dump(pagerank_normal, fichier)"
   ]
  },
  {
   "cell_type": "markdown",
   "metadata": {},
   "source": [
    "# Query-time importance score (3.3)"
   ]
  },
  {
   "cell_type": "markdown",
   "metadata": {},
   "source": [
    "## Calcul de D"
   ]
  },
  {
   "cell_type": "code",
   "metadata": {
    "ExecuteTime": {
     "end_time": "2024-05-21T23:51:29.112892Z",
     "start_time": "2024-05-21T23:51:26.709837Z"
    }
   },
   "source": [
    "import json\n",
    "from sklearn.feature_extraction.text import CountVectorizer\n",
    "\n",
    "\n",
    "categories_text = {}\n",
    "for c in Topic_names:\n",
    "    liste_textes = pd.read_csv(f'./Data/{c}.csv')[\"contenu\"].values.astype(str)\n",
    "\n",
    "    texte = ' '.join(liste_textes)\n",
    "    categories_text[c] = texte\n",
    "\n",
    "D_categories = {}\n",
    "terms_indexes_categories = {}\n",
    "\n",
    "for c, text in categories_text.items():\n",
    "    vectorizer = CountVectorizer(stop_words='english')\n",
    "    D_categories[c] = vectorizer.fit_transform([text])\n",
    "    terms_indexes_categories[c] = vectorizer.get_feature_names_out()\n",
    "    "
   ],
   "outputs": [
    {
     "ename": "NameError",
     "evalue": "name 'Topic_names' is not defined",
     "output_type": "error",
     "traceback": [
      "\u001B[0;31m---------------------------------------------------------------------------\u001B[0m",
      "\u001B[0;31mNameError\u001B[0m                                 Traceback (most recent call last)",
      "Cell \u001B[0;32mIn[1], line 6\u001B[0m\n\u001B[1;32m      2\u001B[0m \u001B[38;5;28;01mfrom\u001B[39;00m \u001B[38;5;21;01msklearn\u001B[39;00m\u001B[38;5;21;01m.\u001B[39;00m\u001B[38;5;21;01mfeature_extraction\u001B[39;00m\u001B[38;5;21;01m.\u001B[39;00m\u001B[38;5;21;01mtext\u001B[39;00m \u001B[38;5;28;01mimport\u001B[39;00m CountVectorizer\n\u001B[1;32m      5\u001B[0m categories_text \u001B[38;5;241m=\u001B[39m {}\n\u001B[0;32m----> 6\u001B[0m \u001B[38;5;28;01mfor\u001B[39;00m c \u001B[38;5;129;01min\u001B[39;00m \u001B[43mTopic_names\u001B[49m:\n\u001B[1;32m      7\u001B[0m     liste_textes \u001B[38;5;241m=\u001B[39m pd\u001B[38;5;241m.\u001B[39mread_csv(\u001B[38;5;124mf\u001B[39m\u001B[38;5;124m'\u001B[39m\u001B[38;5;124m./Data/\u001B[39m\u001B[38;5;132;01m{\u001B[39;00mc\u001B[38;5;132;01m}\u001B[39;00m\u001B[38;5;124m.csv\u001B[39m\u001B[38;5;124m'\u001B[39m)[\u001B[38;5;124m\"\u001B[39m\u001B[38;5;124mcontenu\u001B[39m\u001B[38;5;124m\"\u001B[39m]\u001B[38;5;241m.\u001B[39mvalues\u001B[38;5;241m.\u001B[39mastype(\u001B[38;5;28mstr\u001B[39m)\n\u001B[1;32m      9\u001B[0m     texte \u001B[38;5;241m=\u001B[39m \u001B[38;5;124m'\u001B[39m\u001B[38;5;124m \u001B[39m\u001B[38;5;124m'\u001B[39m\u001B[38;5;241m.\u001B[39mjoin(liste_textes)\n",
      "\u001B[0;31mNameError\u001B[0m: name 'Topic_names' is not defined"
     ]
    }
   ],
   "execution_count": 1
  },
  {
   "cell_type": "code",
   "metadata": {
    "ExecuteTime": {
     "end_time": "2024-05-21T22:54:48.510738Z",
     "start_time": "2024-05-21T22:54:48.510677Z"
    }
   },
   "source": [
    "with open('D.pkl', 'wb') as fichier:\n",
    "    pickle.dump(D_categories, fichier)\n",
    "\n",
    "with open('terms_indexes.pkl', 'wb') as fichier:\n",
    "    pickle.dump(terms_indexes_categories, fichier)"
   ],
   "outputs": [],
   "execution_count": null
  },
  {
   "cell_type": "markdown",
   "metadata": {},
   "source": [
    "## Score"
   ]
  },
  {
   "cell_type": "code",
   "execution_count": null,
   "metadata": {},
   "outputs": [],
   "source": [
    "!pip install python-terrier"
   ]
  },
  {
   "cell_type": "code",
   "metadata": {
    "ExecuteTime": {
     "end_time": "2024-05-21T23:52:13.918766Z",
     "start_time": "2024-05-21T23:52:04.178459Z"
    }
   },
   "source": [
    "# Indexation des articles \n",
    "import pandas as pd\n",
    "import pyterrier as pt\n",
    "\n",
    "if not pt.started():\n",
    "  pt.init(boot_packages=[\"com.github.terrierteam:terrier-prf:-SNAPSHOT\"])\n",
    "\n",
    "df = pd.read_csv(f'./Data/all.csv')[[\"titre\",\"contenu\"]]\n",
    "df = df.dropna()\n",
    "df.columns = [\"docno\", \"text\"]\n",
    "\n",
    "# pd_indexer = pt.DFIndexer(\"./pd_index\")\n",
    "# indexref = pd_indexer.index(df[\"text\"], df[\"docno\"])\n",
    "# index = pt.IndexFactory.of(indexref)\n",
    "\n",
    "Topic_names = [\"arts\",\"games\",\"youth\",\"reference\", \"shopping\", \"business\", \"health\", \"news\",\"geography\",\"society\",\"computers\",\"home\",\"recreation\",\"science\",\"sports\",\"world\"]"
   ],
   "outputs": [
    {
     "name": "stderr",
     "output_type": "stream",
     "text": [
      "PyTerrier 0.10.0 has loaded Terrier 5.9 (built by craigm on 2024-05-02 17:40) and terrier-helper 0.0.8\n",
      "\n",
      "No etc/terrier.properties, using terrier.default.properties for bootstrap configuration.\n"
     ]
    }
   ],
   "execution_count": 3
  },
  {
   "cell_type": "code",
   "metadata": {
    "ExecuteTime": {
     "end_time": "2024-05-21T23:52:18.048102Z",
     "start_time": "2024-05-21T23:52:16.619079Z"
    }
   },
   "source": [
    "df = pd.read_csv(f'./Data/all.csv')[[\"titre\",\"contenu\"]]\n",
    "df = df.fillna('missing')"
   ],
   "outputs": [],
   "execution_count": 4
  },
  {
   "cell_type": "code",
   "metadata": {
    "ExecuteTime": {
     "end_time": "2024-05-22T00:46:38.149709Z",
     "start_time": "2024-05-22T00:46:38.142430Z"
    }
   },
   "source": [
    "def get_probas_c_q(q, D, terms_indexes):\n",
    "    # calculer P(cj|q)\n",
    "    probas_c_q = np.zeros((16))\n",
    "    p_c = 1/16 # \"The quantity P(cj) is not as straightforward. We chose to make it uniform\"\n",
    "\n",
    "    for i,topic in enumerate(Topic_names):\n",
    "        indexes = np.in1d(terms_indexes[topic], np.array(q)).nonzero()[0]\n",
    "\n",
    "        if len(indexes)==0:\n",
    "            probas_c_q[i] = 0\n",
    "        else:\n",
    "            p_q_c = D[topic].tocsc()[indexes]/D[topic].tocsc().sum()\n",
    "            p_q_c = p_q_c.toarray()\n",
    "            probas_c_q[i] = p_c * np.prod(p_q_c)\n",
    "            \n",
    "            \n",
    "    if np.sum(probas_c_q)==0:\n",
    "        probas_c_q = np.ones(16)/16\n",
    "    else:\n",
    "        probas_c_q = probas_c_q/np.sum(probas_c_q)\n",
    "            \n",
    "    return probas_c_q\n",
    "\n",
    "\n",
    "def sqd(q, topic_pagerank, D, terms_indexes, index):\n",
    "    # Using a text index, recuperer les docs qui contiennent q\n",
    "    br = pt.BatchRetrieve(index, wmodel=\"CoordinateMatch\") # CoordinateMatch renvoie 1 si le terme est dans le doc, 0 sinon\n",
    "    docs_retrieved = br.search(q) # Renvoie le nombre de termes de la query qui sont dans chaque doc\n",
    "    docs_query = docs_retrieved[docs_retrieved[\"score\"] == len(q.split())]  # Garder uniquement les docs qui contiennent tous les termes de la query\n",
    "    docs_index = docs_query[\"docno\"].values\n",
    "    \n",
    "    probas_c_q = get_probas_c_q(q, D, terms_indexes)\n",
    "            \n",
    "    df = pd.read_csv(f'./Data/all.csv')\n",
    "    df.columns = [\"id\", \"titre\", \"contenu\", \"liens\"]\n",
    "            \n",
    "    docs = df[df[\"titre\"].isin(docs_index)].copy()\n",
    "    \n",
    "    # print(docs)\n",
    "    \n",
    "    docs[\"score\"] = docs.apply(lambda x: sum([probas_c_q[Topic_names.index(topic)]*topic_pagerank[topic][x[\"id\"]] for topic in Topic_names]), axis=1)\n",
    "    \n",
    "    # print(docs)\n",
    "\n",
    "    # garder les 3 meilleurs cj\n",
    "    # sorted_indices = np.argsort(-probas_c_q)\n",
    "    # \n",
    "    # top_indices = sorted_indices[:3]\n",
    "    # top_values = probas_c_q[top_indices]\n",
    "    # \n",
    "    # # somme des P(cj|q) * rank j\n",
    "    # res = 0\n",
    "    # for i in range(3):\n",
    "    #     res+= top_values[i]*topic_pagerank[Topic_names[top_indices[i]]]\n",
    "    #return np.sum(top_values*topic_pagerank[top_indices],axis=1)\n",
    "\n",
    "\n",
    "    # meilleurs documents :\n",
    "\n",
    "    # doc qui ont les mots de la query sans pyterrier\n",
    "    # df['text_lower'] = df['contenu'].str.lower() # Convert the text column to lowercase for case-insensitive search\n",
    "    # query_words = q.lower().split() # Split the query into individual words\n",
    "    # mask = df['text_lower'].str.contains('|'.join(query_words)) # boolean mask to filter rows containing any of the query words\n",
    "    # doc_indices = df.index[mask] # indices des docs qui ont la query\n",
    "    \n",
    "    #res[doc_indices]+=100 # on leur donne plus de valeur pour qu'ils sortent d'abord\n",
    "\n",
    "    #sorted_docs_index = np.argsort(-res)\n",
    "    # best_docs = pd.read_csv(f'./Data/all.csv')[\"titre\"].values[sorted_docs_index]\n",
    "\n",
    "    best_docs = docs.sort_values(by=\"score\", ascending=False)[\"titre\"]\n",
    "    return best_docs"
   ],
   "outputs": [],
   "execution_count": 36
  },
  {
   "metadata": {
    "ExecuteTime": {
     "end_time": "2024-05-21T23:52:22.564578Z",
     "start_time": "2024-05-21T23:52:22.561753Z"
    }
   },
   "cell_type": "code",
   "source": [
    "# query = \"affirmative action\"\n",
    "# print(sqd(query, topic_pagerank, D, terms_indexes, index)[:5])"
   ],
   "outputs": [],
   "execution_count": 6
  },
  {
   "cell_type": "code",
   "metadata": {
    "ExecuteTime": {
     "end_time": "2024-05-21T23:52:23.097359Z",
     "start_time": "2024-05-21T23:52:23.092988Z"
    }
   },
   "source": [
    "def score_normal_pagerank(q,normal_pagerank):\n",
    "    \n",
    "    # # doc qui ont les mots de la query (sans pyterrier)\n",
    "    # df['text_lower'] = df['contenu'].str.lower() # Convert the text column to lowercase for case-insensitive search\n",
    "    # query_words = q.lower().split() # Split the query into individual words\n",
    "    # mask = df['text_lower'].str.contains('|'.join(query_words)) # boolean mask to filter rows containing any of the query words\n",
    "    # doc_indices = df.index[mask] # indices des docs qui ont la query\n",
    "    # normal_pagerank[doc_indices] +=100\n",
    "    # \n",
    "    # sorted_docs_index = np.argsort(-normal_pagerank)\n",
    "    # best_docs = pd.read_csv(f'./Data/all.csv')[\"titre\"].values[sorted_docs_index]\n",
    "    \n",
    "    # Using a text index, recuperer les docs qui contiennent q\n",
    "    br = pt.BatchRetrieve(index, wmodel=\"CoordinateMatch\") # CoordinateMatch renvoie 1 si le terme est dans le doc, 0 sinon\n",
    "    docs_retrieved = br.search(q) # Renvoie le nombre de termes de la query qui sont dans chaque doc\n",
    "    docs_query = docs_retrieved[docs_retrieved[\"score\"] == len(q.split())]  # Garder uniquement les docs qui contiennent tous les termes de la query\n",
    "    sorted_index = docs_query[\"docno\"].values\n",
    "    \n",
    "    df = pd.read_csv(f'./Data/all.csv')\n",
    "    df.columns = [\"id\", \"titre\", \"contenu\", \"liens\"]\n",
    "    \n",
    "    docs = df[df[\"titre\"].isin(sorted_index)].copy()\n",
    "    docs[\"score\"] = normal_pagerank[docs[\"id\"].values]\n",
    "    \n",
    "    best_docs = docs.sort_values(by=\"score\", ascending=False)[\"titre\"]\n",
    "    \n",
    "    return best_docs\n"
   ],
   "outputs": [],
   "execution_count": 7
  },
  {
   "cell_type": "markdown",
   "metadata": {},
   "source": [
    "# Experimental results"
   ]
  },
  {
   "cell_type": "markdown",
   "metadata": {},
   "source": [
    "## Similarity ranking (4.1)"
   ]
  },
  {
   "cell_type": "code",
   "metadata": {
    "ExecuteTime": {
     "end_time": "2024-05-21T23:52:25.224579Z",
     "start_time": "2024-05-21T23:52:25.221806Z"
    }
   },
   "source": [
    "def OSim(t1, t2, n=20):\n",
    "    # t1, t2 listes\n",
    "    return len(set(t1[:n])&set(t2[:n]))/n"
   ],
   "outputs": [],
   "execution_count": 8
  },
  {
   "cell_type": "code",
   "metadata": {
    "ExecuteTime": {
     "end_time": "2024-05-21T23:52:26.147986Z",
     "start_time": "2024-05-21T23:52:26.144918Z"
    }
   },
   "source": [
    "import itertools\n",
    "\n",
    "def KSim(t1, t2):\n",
    "    # t1, t2 listes\n",
    "    U = set(t1)|set(t2)\n",
    "    delta1 = U - set(t1)\n",
    "    delta2 = U - set(t2)\n",
    "\n",
    "    t1_prime = list(t1)+list(delta1)\n",
    "    t2_prime = list(t2)+list(delta2)\n",
    "\n",
    "    sim = 0\n",
    "    for u,v in list(itertools.permutations(U, 2)):\n",
    "        if np.sign(t1_prime.index(u)-t1_prime.index(v))==np.sign(t2_prime.index(u)-t2_prime.index(v)):\n",
    "            sim+=1\n",
    "    return sim/(len(U)*(len(U)-1)) if len(U)>1 else sim\n"
   ],
   "outputs": [],
   "execution_count": 9
  },
  {
   "cell_type": "markdown",
   "metadata": {},
   "source": [
    "## Tests on queries"
   ]
  },
  {
   "cell_type": "code",
   "metadata": {
    "ExecuteTime": {
     "end_time": "2024-05-21T23:52:28.435815Z",
     "start_time": "2024-05-21T23:52:28.433055Z"
    }
   },
   "source": [
    "queries = [ \"affirmative action\", \"alcoholism\", \"amusement parks\", \n",
    "            \"architecture\", \"bicycling\", \"blues\", \"cheese\", \n",
    "            \"citrus groves\", \"classical guitar\", \"computer vision\", \n",
    "            \"cruises\", \"death valley\", \"field hockey\", \n",
    "            \"gardening\", \"graphic design\", \"gulf war\", \n",
    "            \"hiv\", \"java\", \"lipari\",\n",
    "            \"lyme disease\", \"mutual funds\", \"national parks\", \n",
    "            \"parallel architecture\", \"recycling cans\", \"rock climbing\", \n",
    "            \"san francisco\", \"shakespeare\", \"stamp collecting\", \n",
    "            \"sushi\", \"table tennis\", \"telecommuting\", \n",
    "            \"vintage cars\", \"volcano\", \"zen buddhism\", \"zener\"]"
   ],
   "outputs": [],
   "execution_count": 10
  },
  {
   "cell_type": "code",
   "metadata": {
    "ExecuteTime": {
     "end_time": "2024-05-21T23:52:34.415171Z",
     "start_time": "2024-05-21T23:52:34.131691Z"
    }
   },
   "source": [
    "import numpy as np\n",
    "import pickle\n",
    "\n",
    "with open(\"terms_indexes.pkl\", \"rb\") as f:\n",
    "    terms_indexes = pickle.load(f)\n",
    "with open(\"D.pkl\", \"rb\") as f:\n",
    "    D = pickle.load(f)\n",
    "    for topic in Topic_names:\n",
    "        D[topic] = np.reshape(D[topic],(D[topic].shape[1],1))\n",
    "with open(\"topic_pagerank.pkl\", \"rb\") as f:\n",
    "    topic_pagerank = pickle.load(f)\n",
    "    \n",
    "index = pt.IndexFactory.of(\"./pd_index\")"
   ],
   "outputs": [],
   "execution_count": 11
  },
  {
   "cell_type": "code",
   "metadata": {
    "ExecuteTime": {
     "end_time": "2024-05-21T23:52:45.962795Z",
     "start_time": "2024-05-21T23:52:36.996635Z"
    }
   },
   "source": [
    "for q in queries[:5]:\n",
    "    print(q)\n",
    "    print(sqd(q, topic_pagerank, D, terms_indexes, index)[:5])\n"
   ],
   "outputs": [
    {
     "name": "stdout",
     "output_type": "stream",
     "text": [
      "affirmative action\n",
      "8        Expressive therapies\n",
      "11499        Apple and unions\n",
      "12423           Shadow family\n",
      "12384           Public sphere\n",
      "12357    Gender mainstreaming\n",
      "Name: titre, dtype: object\n",
      "alcoholism\n",
      "15584           Shameless (British TV series)\n",
      "13729                     I will moida da bum\n",
      "8276                 Violence and video games\n",
      "5827                      Million Women Study\n",
      "10992    List of Stargate Universe characters\n",
      "Name: titre, dtype: object\n",
      "amusement parks\n",
      "85         Dream world (plot device)\n",
      "8879                            Park\n",
      "8762                         Soarin'\n",
      "8758    Lists of tourist attractions\n",
      "8743              Tourist attraction\n",
      "Name: titre, dtype: object\n",
      "architecture\n",
      "750                          Art\n",
      "8750                      Museum\n",
      "10584      Mapping controversies\n",
      "12584    Heritage interpretation\n",
      "5584         Imaging informatics\n",
      "Name: titre, dtype: object\n",
      "bicycling\n",
      "6273                                        Pannier\n",
      "758                                  Conceptual art\n",
      "2827                                          Intel\n",
      "14841               Global Alliance for EcoMobility\n",
      "4843     List of Colorado geographic features lists\n",
      "Name: titre, dtype: object\n"
     ]
    }
   ],
   "execution_count": 12
  },
  {
   "cell_type": "code",
   "metadata": {
    "ExecuteTime": {
     "end_time": "2024-05-21T23:52:45.970098Z",
     "start_time": "2024-05-21T23:52:45.964292Z"
    }
   },
   "source": [
    "with open(\"normal_pagerank.pkl\", \"rb\") as f:\n",
    "        normal_pagerank = pickle.load(f)"
   ],
   "outputs": [],
   "execution_count": 13
  },
  {
   "cell_type": "code",
   "metadata": {
    "ExecuteTime": {
     "end_time": "2024-05-21T23:08:55.917144Z",
     "start_time": "2024-05-21T23:08:42.377363Z"
    }
   },
   "source": [
    "for q in queries[:5]:\n",
    "    print(q)\n",
    "    print(score_normal_pagerank(q, normal_pagerank)[:5])"
   ],
   "outputs": [
    {
     "name": "stdout",
     "output_type": "stream",
     "text": [
      "affirmative action\n",
      "14017    Universal Declaration of Human Rights\n",
      "10992     List of Stargate Universe characters\n",
      "7810                           Murray Rothbard\n",
      "14841          Global Alliance for EcoMobility\n",
      "7101                               Jactitation\n",
      "Name: titre, dtype: object\n",
      "alcoholism\n",
      "15584    Shameless (British TV series)\n",
      "13729              I will moida da bum\n",
      "5827               Million Women Study\n",
      "8276          Violence and video games\n",
      "6156                      Chafing dish\n",
      "Name: titre, dtype: object\n",
      "amusement parks\n",
      "8584                            Hobby\n",
      "8758     Lists of tourist attractions\n",
      "14148                       Ice cream\n",
      "7748              Japanese war crimes\n",
      "10994                 Kenny McCormick\n",
      "Name: titre, dtype: object\n",
      "architecture\n",
      "750                          Art\n",
      "8750                      Museum\n",
      "12584    Heritage interpretation\n",
      "10584      Mapping controversies\n",
      "5584         Imaging informatics\n",
      "Name: titre, dtype: object\n",
      "bicycling\n",
      "6273                                        Pannier\n",
      "758                                  Conceptual art\n",
      "2827                                          Intel\n",
      "14841               Global Alliance for EcoMobility\n",
      "4843     List of Colorado geographic features lists\n",
      "Name: titre, dtype: object\n"
     ]
    }
   ],
   "execution_count": 42
  },
  {
   "cell_type": "code",
   "metadata": {
    "ExecuteTime": {
     "end_time": "2024-05-21T23:09:08.733438Z",
     "start_time": "2024-05-21T23:08:55.918721Z"
    }
   },
   "source": [
    "for q in queries[:5]:\n",
    "    print(q)\n",
    "    print(score_normal_pagerank(q, topic_pagerank['business'])[:5])"
   ],
   "outputs": [
    {
     "name": "stdout",
     "output_type": "stream",
     "text": [
      "affirmative action\n",
      "10992     List of Stargate Universe characters\n",
      "14017    Universal Declaration of Human Rights\n",
      "9991          Chronicle of the King D. Pedro I\n",
      "7101                               Jactitation\n",
      "748                              Theory of art\n",
      "Name: titre, dtype: object\n",
      "alcoholism\n",
      "6922                                   Skewer\n",
      "12922                            Public enemy\n",
      "11958                                  Sandoz\n",
      "8969                               Maxim Wien\n",
      "10992    List of Stargate Universe characters\n",
      "Name: titre, dtype: object\n",
      "amusement parks\n",
      "10958                          Tom Swift\n",
      "8136               Video games and Linux\n",
      "3996     Characters of the Tekken series\n",
      "8758        Lists of tourist attractions\n",
      "10994                    Kenny McCormick\n",
      "Name: titre, dtype: object\n",
      "architecture\n",
      "8962                                 Reserve design\n",
      "969                                          Design\n",
      "272                                       Patronage\n",
      "3272    List of Xbox games compatible with Xbox 360\n",
      "8750                                         Museum\n",
      "Name: titre, dtype: object\n",
      "bicycling\n",
      "2827                      Intel\n",
      "13955          Element (sports)\n",
      "8109         Humans vs. Zombies\n",
      "6273                    Pannier\n",
      "9302     Guinness World Records\n",
      "Name: titre, dtype: object\n"
     ]
    }
   ],
   "execution_count": 43
  },
  {
   "cell_type": "code",
   "metadata": {
    "ExecuteTime": {
     "end_time": "2024-05-21T23:09:18.447306Z",
     "start_time": "2024-05-21T23:09:08.734693Z"
    }
   },
   "source": [
    "for q in queries[:5]:\n",
    "    print(q)\n",
    "    print(score_normal_pagerank(q, topic_pagerank['sports'])[:5])"
   ],
   "outputs": [
    {
     "name": "stdout",
     "output_type": "stream",
     "text": [
      "affirmative action\n",
      "14017    Universal Declaration of Human Rights\n",
      "7810                           Murray Rothbard\n",
      "7101                               Jactitation\n",
      "10992     List of Stargate Universe characters\n",
      "14841          Global Alliance for EcoMobility\n",
      "Name: titre, dtype: object\n",
      "alcoholism\n",
      "5827              Million Women Study\n",
      "5934     Heart failure classification\n",
      "8969                       Maxim Wien\n",
      "11957                           Maggi\n",
      "5926                   Medical record\n",
      "Name: titre, dtype: object\n",
      "amusement parks\n",
      "8758     Lists of tourist attractions\n",
      "8584                            Hobby\n",
      "10958                       Tom Swift\n",
      "14148                       Ice cream\n",
      "10994                 Kenny McCormick\n",
      "Name: titre, dtype: object\n",
      "architecture\n",
      "750                                              Art\n",
      "8750                                          Museum\n",
      "2827                                           Intel\n",
      "8962                                  Reserve design\n",
      "10934    List of things named after John von Neumann\n",
      "Name: titre, dtype: object\n",
      "bicycling\n",
      "2827                                Intel\n",
      "1934                    Domar aggregation\n",
      "13955                    Element (sports)\n",
      "6273                              Pannier\n",
      "1700     American system of manufacturing\n",
      "Name: titre, dtype: object\n"
     ]
    }
   ],
   "execution_count": 44
  },
  {
   "cell_type": "markdown",
   "metadata": {},
   "source": [
    "## Similarité entre les ranking de pagerank normal et de pagerank avec topic"
   ]
  },
  {
   "cell_type": "code",
   "metadata": {
    "ExecuteTime": {
     "end_time": "2024-05-22T00:49:31.061281Z",
     "start_time": "2024-05-22T00:47:48.446321Z"
    }
   },
   "source": [
    "for q in queries:\n",
    "    normal = score_normal_pagerank(q, normal_pagerank)\n",
    "    topic = sqd(q, topic_pagerank, D, terms_indexes, index)\n",
    "    print(q,\"\\tOSim:\",OSim(normal, topic, n=20))\n",
    "    #print(\"KSim,\",KSim(normal[:20], topic[:20]))"
   ],
   "outputs": [
    {
     "name": "stdout",
     "output_type": "stream",
     "text": [
      "affirmative action \tOSim: 1.0\n",
      "alcoholism \tOSim: 0.9\n",
      "amusement parks \tOSim: 1.0\n",
      "architecture \tOSim: 1.0\n",
      "bicycling \tOSim: 0.9\n",
      "blues \tOSim: 0.85\n",
      "cheese \tOSim: 0.7\n",
      "citrus groves \tOSim: 0.15\n",
      "classical guitar \tOSim: 0.9\n",
      "computer vision \tOSim: 1.0\n",
      "cruises \tOSim: 0.75\n",
      "death valley \tOSim: 0.95\n",
      "field hockey \tOSim: 1.0\n",
      "gardening \tOSim: 0.6\n",
      "graphic design \tOSim: 1.0\n",
      "gulf war \tOSim: 1.0\n",
      "hiv \tOSim: 0.8\n",
      "java \tOSim: 0.85\n",
      "lipari \tOSim: 0.05\n",
      "lyme disease \tOSim: 0.2\n",
      "mutual funds \tOSim: 1.0\n",
      "national parks \tOSim: 1.0\n",
      "parallel architecture \tOSim: 0.9\n",
      "recycling cans \tOSim: 0.95\n",
      "rock climbing \tOSim: 0.95\n",
      "san francisco \tOSim: 1.0\n",
      "shakespeare \tOSim: 0.95\n",
      "stamp collecting \tOSim: 0.95\n",
      "sushi \tOSim: 0.85\n",
      "table tennis \tOSim: 0.9\n",
      "telecommuting \tOSim: 0.1\n",
      "vintage cars \tOSim: 1.0\n",
      "volcano \tOSim: 0.85\n",
      "zen buddhism \tOSim: 0.5\n",
      "zener \tOSim: 0.15\n"
     ]
    }
   ],
   "execution_count": 38
  },
  {
   "cell_type": "code",
   "metadata": {
    "ExecuteTime": {
     "end_time": "2024-05-21T23:19:01.901221Z",
     "start_time": "2024-05-21T23:16:56.272273Z"
    }
   },
   "source": [
    "for q in queries:\n",
    "    normal = score_normal_pagerank(q, normal_pagerank)\n",
    "    topic = sqd(q, topic_pagerank, D, terms_indexes, index)\n",
    "    print(q,\"\\tKSim,\",KSim(normal[:20], topic[:20]))"
   ],
   "outputs": [
    {
     "name": "stdout",
     "output_type": "stream",
     "text": [
      "affirmative action \tKSim, 0.2927927927927928\n",
      "alcoholism \tKSim, 0.8484848484848485\n",
      "amusement parks \tKSim, 0.3548387096774194\n",
      "architecture \tKSim, 0.9526315789473684\n",
      "bicycling \tKSim, 0.8831168831168831\n",
      "blues \tKSim, 0.8023715415019763\n",
      "cheese \tKSim, 0.7476923076923077\n",
      "citrus groves \tKSim, 0.3333333333333333\n",
      "classical guitar \tKSim, 0.45454545454545453\n",
      "computer vision \tKSim, 0.24444444444444444\n",
      "cruises \tKSim, 0.6633333333333333\n",
      "death valley \tKSim, 0.2838709677419355\n",
      "field hockey \tKSim, 0.3092436974789916\n",
      "gardening \tKSim, 0.5079365079365079\n",
      "graphic design \tKSim, 0.21923076923076923\n",
      "gulf war \tKSim, 0.3314393939393939\n",
      "hiv \tKSim, 0.8268398268398268\n",
      "java \tKSim, 0.7707509881422925\n",
      "lipari \tKSim, 0\n",
      "lyme disease \tKSim, 0.6666666666666666\n",
      "mutual funds \tKSim, 0.2702702702702703\n",
      "national parks \tKSim, 0.23616734143049933\n",
      "parallel architecture \tKSim, 0.41935483870967744\n",
      "recycling cans \tKSim, 0.26282051282051283\n",
      "rock climbing \tKSim, 0.42610837438423643\n",
      "san francisco \tKSim, 0.23076923076923078\n",
      "shakespeare \tKSim, 0.8333333333333334\n",
      "stamp collecting \tKSim, 0.2838709677419355\n",
      "sushi \tKSim, 0.7575757575757576\n",
      "table tennis \tKSim, 0.2989247311827957\n",
      "telecommuting \tKSim, 1.0\n",
      "vintage cars \tKSim, 0.5584415584415584\n",
      "volcano \tKSim, 0.8771929824561403\n",
      "zen buddhism \tKSim, 0.7333333333333333\n",
      "zener \tKSim, 1.0\n"
     ]
    }
   ],
   "execution_count": 51
  },
  {
   "cell_type": "markdown",
   "metadata": {},
   "source": [
    "### Comparaison des vecteurs PageRank (table 4)"
   ]
  },
  {
   "cell_type": "code",
   "metadata": {
    "ExecuteTime": {
     "end_time": "2024-05-21T23:53:55.092520Z",
     "start_time": "2024-05-21T23:53:55.090204Z"
    }
   },
   "source": [
    "pageranks = topic_pagerank.copy()\n",
    "pageranks[\"normal\"] = normal_pagerank"
   ],
   "outputs": [],
   "execution_count": 16
  },
  {
   "cell_type": "code",
   "metadata": {
    "ExecuteTime": {
     "end_time": "2024-05-22T06:41:33.628124Z",
     "start_time": "2024-05-22T06:41:24.205799Z"
    }
   },
   "source": [
    "import json\n",
    "\n",
    "table4={}\n",
    "\n",
    "# for topic in Topic_names + [\"normal\"]:\n",
    "#     with open(f\"Rankings/{topic}.json\", 'w') as f:\n",
    "#         rankings = {}\n",
    "#         for q in queries:\n",
    "#             rankings[q] = score_normal_pagerank(q, pageranks[topic])[:20].tolist()\n",
    "#         json.dump(rankings, f, indent=4)\n",
    "\n",
    "for topic_1,topic_2 in list(itertools.permutations([\"normal\"]+Topic_names, 2)):\n",
    "    print(topic_1,topic_2)\n",
    "    ksim = 0\n",
    "    osim = 0\n",
    "    \n",
    "    with open(f\"Rankings/{topic_1}.json\", 'r') as f:\n",
    "        rankings1 = json.load(f)\n",
    "    with open(f\"Rankings/{topic_2}.json\", 'r') as f:\n",
    "        rankings2 = json.load(f)\n",
    "    \n",
    "    for q in queries:\n",
    "        indexation1 = rankings1[q]\n",
    "        indexation2 = rankings2[q]\n",
    "        ksim += KSim(indexation1, indexation2)\n",
    "        osim += OSim(indexation1, indexation2)\n",
    "    ksim /= len(queries)\n",
    "    osim /= len(queries)\n",
    "    table4[(topic_1, topic_2)] = (ksim, osim)\n",
    "\n",
    "    "
   ],
   "outputs": [
    {
     "name": "stdout",
     "output_type": "stream",
     "text": [
      "normal arts\n",
      "normal games\n",
      "normal youth\n",
      "normal reference\n",
      "normal shopping\n",
      "normal business\n",
      "normal health\n",
      "normal news\n",
      "normal geography\n",
      "normal society\n",
      "normal computers\n",
      "normal home\n",
      "normal recreation\n",
      "normal science\n",
      "normal sports\n",
      "normal world\n",
      "arts normal\n",
      "arts games\n",
      "arts youth\n",
      "arts reference\n",
      "arts shopping\n",
      "arts business\n",
      "arts health\n",
      "arts news\n",
      "arts geography\n",
      "arts society\n",
      "arts computers\n",
      "arts home\n",
      "arts recreation\n",
      "arts science\n",
      "arts sports\n",
      "arts world\n",
      "games normal\n",
      "games arts\n",
      "games youth\n",
      "games reference\n",
      "games shopping\n",
      "games business\n",
      "games health\n",
      "games news\n",
      "games geography\n",
      "games society\n",
      "games computers\n",
      "games home\n",
      "games recreation\n",
      "games science\n",
      "games sports\n",
      "games world\n",
      "youth normal\n",
      "youth arts\n",
      "youth games\n",
      "youth reference\n",
      "youth shopping\n",
      "youth business\n",
      "youth health\n",
      "youth news\n",
      "youth geography\n",
      "youth society\n",
      "youth computers\n",
      "youth home\n",
      "youth recreation\n",
      "youth science\n",
      "youth sports\n",
      "youth world\n",
      "reference normal\n",
      "reference arts\n",
      "reference games\n",
      "reference youth\n",
      "reference shopping\n",
      "reference business\n",
      "reference health\n",
      "reference news\n",
      "reference geography\n",
      "reference society\n",
      "reference computers\n",
      "reference home\n",
      "reference recreation\n",
      "reference science\n",
      "reference sports\n",
      "reference world\n",
      "shopping normal\n",
      "shopping arts\n",
      "shopping games\n",
      "shopping youth\n",
      "shopping reference\n",
      "shopping business\n",
      "shopping health\n",
      "shopping news\n",
      "shopping geography\n",
      "shopping society\n",
      "shopping computers\n",
      "shopping home\n",
      "shopping recreation\n",
      "shopping science\n",
      "shopping sports\n",
      "shopping world\n",
      "business normal\n",
      "business arts\n",
      "business games\n",
      "business youth\n",
      "business reference\n",
      "business shopping\n",
      "business health\n",
      "business news\n",
      "business geography\n",
      "business society\n",
      "business computers\n",
      "business home\n",
      "business recreation\n",
      "business science\n",
      "business sports\n",
      "business world\n",
      "health normal\n",
      "health arts\n",
      "health games\n",
      "health youth\n",
      "health reference\n",
      "health shopping\n",
      "health business\n",
      "health news\n",
      "health geography\n",
      "health society\n",
      "health computers\n",
      "health home\n",
      "health recreation\n",
      "health science\n",
      "health sports\n",
      "health world\n",
      "news normal\n",
      "news arts\n",
      "news games\n",
      "news youth\n",
      "news reference\n",
      "news shopping\n",
      "news business\n",
      "news health\n",
      "news geography\n",
      "news society\n",
      "news computers\n",
      "news home\n",
      "news recreation\n",
      "news science\n",
      "news sports\n",
      "news world\n",
      "geography normal\n",
      "geography arts\n",
      "geography games\n",
      "geography youth\n",
      "geography reference\n",
      "geography shopping\n",
      "geography business\n",
      "geography health\n",
      "geography news\n",
      "geography society\n",
      "geography computers\n",
      "geography home\n",
      "geography recreation\n",
      "geography science\n",
      "geography sports\n",
      "geography world\n",
      "society normal\n",
      "society arts\n",
      "society games\n",
      "society youth\n",
      "society reference\n",
      "society shopping\n",
      "society business\n",
      "society health\n",
      "society news\n",
      "society geography\n",
      "society computers\n",
      "society home\n",
      "society recreation\n",
      "society science\n",
      "society sports\n",
      "society world\n",
      "computers normal\n",
      "computers arts\n",
      "computers games\n",
      "computers youth\n",
      "computers reference\n",
      "computers shopping\n",
      "computers business\n",
      "computers health\n",
      "computers news\n",
      "computers geography\n",
      "computers society\n",
      "computers home\n",
      "computers recreation\n",
      "computers science\n",
      "computers sports\n",
      "computers world\n",
      "home normal\n",
      "home arts\n",
      "home games\n",
      "home youth\n",
      "home reference\n",
      "home shopping\n",
      "home business\n",
      "home health\n",
      "home news\n",
      "home geography\n",
      "home society\n",
      "home computers\n",
      "home recreation\n",
      "home science\n",
      "home sports\n",
      "home world\n",
      "recreation normal\n",
      "recreation arts\n",
      "recreation games\n",
      "recreation youth\n",
      "recreation reference\n",
      "recreation shopping\n",
      "recreation business\n",
      "recreation health\n",
      "recreation news\n",
      "recreation geography\n",
      "recreation society\n",
      "recreation computers\n",
      "recreation home\n",
      "recreation science\n",
      "recreation sports\n",
      "recreation world\n",
      "science normal\n",
      "science arts\n",
      "science games\n",
      "science youth\n",
      "science reference\n",
      "science shopping\n",
      "science business\n",
      "science health\n",
      "science news\n",
      "science geography\n",
      "science society\n",
      "science computers\n",
      "science home\n",
      "science recreation\n",
      "science sports\n",
      "science world\n",
      "sports normal\n",
      "sports arts\n",
      "sports games\n",
      "sports youth\n",
      "sports reference\n",
      "sports shopping\n",
      "sports business\n",
      "sports health\n",
      "sports news\n",
      "sports geography\n",
      "sports society\n",
      "sports computers\n",
      "sports home\n",
      "sports recreation\n",
      "sports science\n",
      "sports world\n",
      "world normal\n",
      "world arts\n",
      "world games\n",
      "world youth\n",
      "world reference\n",
      "world shopping\n",
      "world business\n",
      "world health\n",
      "world news\n",
      "world geography\n",
      "world society\n",
      "world computers\n",
      "world home\n",
      "world recreation\n",
      "world science\n",
      "world sports\n"
     ]
    }
   ],
   "execution_count": 39
  },
  {
   "metadata": {
    "ExecuteTime": {
     "end_time": "2024-05-22T07:50:08.545214Z",
     "start_time": "2024-05-22T07:50:08.540667Z"
    }
   },
   "cell_type": "code",
   "source": [
    "l = sorted(table4.items(), key=lambda x: sum(x[1]), reverse=True)\n",
    "\n",
    "for i in l[::2]:\n",
    "    print(f\"{i[0][0]} - {i[0][1]} : Ksim={i[1][0]}, Osim={i[1][1]}\")"
   ],
   "outputs": [
    {
     "name": "stdout",
     "output_type": "stream",
     "text": [
      "normal - arts : Ksim=0.790932208445121, Osim=0.7042857142857143\n",
      "shopping - business : Ksim=0.6970292467498356, Osim=0.6885714285714284\n",
      "health - computers : Ksim=0.6899202925603469, Osim=0.6871428571428572\n",
      "sports - shopping : Ksim=0.6976597088789994, Osim=0.6728571428571429\n",
      "normal - science : Ksim=0.7028570315198859, Osim=0.6671428571428569\n",
      "sports - business : Ksim=0.6907902392487091, Osim=0.6642857142857145\n",
      "society - world : Ksim=0.690537120299145, Osim=0.6614285714285715\n",
      "games - recreation : Ksim=0.6901786374135511, Osim=0.66\n",
      "business - computers : Ksim=0.6787755369342321, Osim=0.6671428571428569\n",
      "sports - computers : Ksim=0.6788279844229664, Osim=0.657142857142857\n",
      "business - health : Ksim=0.6709056394418256, Osim=0.6585714285714286\n",
      "shopping - computers : Ksim=0.6749923879109713, Osim=0.65\n",
      "world - youth : Ksim=0.6595662667692755, Osim=0.6599999999999998\n",
      "normal - computers : Ksim=0.6716603599575106, Osim=0.6457142857142857\n",
      "normal - geography : Ksim=0.6876609907432101, Osim=0.6285714285714287\n",
      "sports - health : Ksim=0.6590407642997176, Osim=0.6514285714285714\n",
      "reference - science : Ksim=0.658510115293167, Osim=0.6471428571428572\n",
      "normal - reference : Ksim=0.6607245151393751, Osim=0.6442857142857144\n",
      "world - normal : Ksim=0.6680349560497004, Osim=0.6357142857142858\n",
      "health - society : Ksim=0.6535545777109429, Osim=0.6499999999999999\n",
      "business - world : Ksim=0.658758647680293, Osim=0.6442857142857142\n",
      "sports - world : Ksim=0.658544306877091, Osim=0.6414285714285715\n",
      "normal - home : Ksim=0.6736256173526406, Osim=0.6257142857142858\n",
      "normal - sports : Ksim=0.6762918802992347, Osim=0.6228571428571429\n",
      "youth - society : Ksim=0.6473969822095244, Osim=0.6514285714285715\n",
      "normal - youth : Ksim=0.6618928452158881, Osim=0.6357142857142858\n",
      "health - science : Ksim=0.6480396709589983, Osim=0.6457142857142858\n",
      "science - business : Ksim=0.6557494491940128, Osim=0.6371428571428571\n",
      "society - business : Ksim=0.670021800675103, Osim=0.6214285714285714\n",
      "world - science : Ksim=0.6498238036484042, Osim=0.64\n",
      "shopping - health : Ksim=0.6535488365782546, Osim=0.6357142857142856\n",
      "normal - society : Ksim=0.655825675327755, Osim=0.6285714285714287\n",
      "health - world : Ksim=0.6412160520955766, Osim=0.6414285714285715\n",
      "science - society : Ksim=0.6517809577926681, Osim=0.6285714285714287\n",
      "normal - business : Ksim=0.6638976610108552, Osim=0.6142857142857143\n",
      "computers - science : Ksim=0.6461342647684339, Osim=0.6314285714285713\n",
      "normal - shopping : Ksim=0.6652722977199022, Osim=0.6071428571428571\n",
      "youth - sports : Ksim=0.6468390780982062, Osim=0.6242857142857142\n",
      "games - computers : Ksim=0.6556937641188463, Osim=0.6142857142857143\n",
      "youth - science : Ksim=0.6376687537086796, Osim=0.6314285714285716\n",
      "world - geography : Ksim=0.6488399626024219, Osim=0.6185714285714285\n",
      "recreation - computers : Ksim=0.6453708976878889, Osim=0.6214285714285716\n",
      "computers - recreation : Ksim=0.6448106735982531, Osim=0.6214285714285716\n",
      "home - shopping : Ksim=0.6495089142010656, Osim=0.6142857142857144\n",
      "sports - science : Ksim=0.6443789820287632, Osim=0.6185714285714287\n",
      "science - sports : Ksim=0.6443133005837713, Osim=0.6185714285714287\n",
      "youth - reference : Ksim=0.62136324661395, Osim=0.6385714285714285\n",
      "news - health : Ksim=0.6430493987044511, Osim=0.6157142857142858\n",
      "geography - science : Ksim=0.6412505924302268, Osim=0.6157142857142858\n",
      "computers - society : Ksim=0.6317447021703687, Osim=0.6228571428571429\n",
      "sports - home : Ksim=0.6423118478074281, Osim=0.6114285714285714\n",
      "computers - world : Ksim=0.6290776078471276, Osim=0.6228571428571429\n",
      "shopping - science : Ksim=0.6403036162926028, Osim=0.6114285714285714\n",
      "youth - computers : Ksim=0.6270180502939847, Osim=0.6214285714285714\n",
      "reference - geography : Ksim=0.6307072092275737, Osim=0.6157142857142857\n",
      "youth - business : Ksim=0.6366350140074489, Osim=0.6085714285714285\n",
      "news - society : Ksim=0.6225518750582877, Osim=0.6214285714285713\n",
      "geography - health : Ksim=0.6331811605246588, Osim=0.6085714285714287\n",
      "shopping - world : Ksim=0.628807607488773, Osim=0.6114285714285713\n",
      "normal - recreation : Ksim=0.6270295556672844, Osim=0.6057142857142856\n",
      "reference - news : Ksim=0.6127897098120402, Osim=0.6142857142857143\n",
      "reference - world : Ksim=0.6105964555618278, Osim=0.6157142857142857\n",
      "health - youth : Ksim=0.6158223256173099, Osim=0.6099999999999999\n",
      "geography - home : Ksim=0.6364627941914484, Osim=0.5857142857142857\n",
      "youth - shopping : Ksim=0.6199648364722694, Osim=0.6\n",
      "youth - news : Ksim=0.606269893824047, Osim=0.6114285714285715\n",
      "reference - society : Ksim=0.6124063731670424, Osim=0.6042857142857142\n",
      "world - home : Ksim=0.609173037315622, Osim=0.6071428571428571\n",
      "recreation - society : Ksim=0.6081639609563383, Osim=0.6071428571428571\n",
      "reference - computers : Ksim=0.609304229133261, Osim=0.6057142857142856\n",
      "reference - health : Ksim=0.6135741022141495, Osim=0.6014285714285713\n",
      "news - science : Ksim=0.6162640347857798, Osim=0.5971428571428571\n",
      "arts - science : Ksim=0.6303009654226218, Osim=0.582857142857143\n",
      "games - news : Ksim=0.6079298981222113, Osim=0.6042857142857143\n",
      "world - news : Ksim=0.609232981251452, Osim=0.6028571428571429\n",
      "normal - news : Ksim=0.6116472357313871, Osim=0.5985714285714285\n",
      "youth - recreation : Ksim=0.6017552192022887, Osim=0.6057142857142856\n",
      "shopping - society : Ksim=0.6199981243121986, Osim=0.5871428571428571\n",
      "recreation - news : Ksim=0.6056820562429492, Osim=0.6\n",
      "computers - news : Ksim=0.6135832080746556, Osim=0.5914285714285714\n",
      "geography - youth : Ksim=0.6168576599484422, Osim=0.5871428571428573\n",
      "youth - geography : Ksim=0.6167339741104707, Osim=0.5871428571428573\n",
      "science - home : Ksim=0.6110339911910531, Osim=0.5914285714285714\n",
      "arts - reference : Ksim=0.6107238980196508, Osim=0.5885714285714285\n",
      "arts - geography : Ksim=0.6368508151459891, Osim=0.5614285714285715\n",
      "shopping - geography : Ksim=0.6195664346279318, Osim=0.5785714285714286\n",
      "home - computers : Ksim=0.6049545517637464, Osim=0.5928571428571429\n",
      "business - geography : Ksim=0.6172027681048852, Osim=0.5757142857142856\n",
      "science - recreation : Ksim=0.6124444492367354, Osim=0.5800000000000001\n",
      "world - recreation : Ksim=0.6084395015348001, Osim=0.5828571428571429\n",
      "reference - sports : Ksim=0.6038224436315026, Osim=0.5871428571428572\n",
      "reference - business : Ksim=0.6049422001304317, Osim=0.5857142857142857\n",
      "business - home : Ksim=0.6061181613875463, Osim=0.5842857142857143\n",
      "home - health : Ksim=0.6027654884712509, Osim=0.5842857142857143\n",
      "normal - games : Ksim=0.5988466374998465, Osim=0.5871428571428573\n",
      "geography - computers : Ksim=0.6086271766774926, Osim=0.5757142857142856\n",
      "reference - home : Ksim=0.5892937527777747, Osim=0.5914285714285713\n",
      "games - science : Ksim=0.6000097276481272, Osim=0.5771428571428571\n",
      "reference - recreation : Ksim=0.5899881657747806, Osim=0.5857142857142857\n",
      "geography - society : Ksim=0.611869110634664, Osim=0.5628571428571428\n",
      "arts - world : Ksim=0.6038979360330018, Osim=0.5699999999999998\n",
      "home - society : Ksim=0.5935633949874073, Osim=0.5800000000000001\n",
      "youth - arts : Ksim=0.6035592139656168, Osim=0.57\n",
      "recreation - business : Ksim=0.603237346909524, Osim=0.57\n",
      "recreation - sports : Ksim=0.596734671368438, Osim=0.5685714285714285\n",
      "sports - society : Ksim=0.6013924293265114, Osim=0.562857142857143\n",
      "shopping - recreation : Ksim=0.6011404696285293, Osim=0.5628571428571428\n",
      "reference - shopping : Ksim=0.5912304176955789, Osim=0.5714285714285714\n",
      "recreation - health : Ksim=0.5898817068830263, Osim=0.5714285714285714\n",
      "arts - home : Ksim=0.6120110178283694, Osim=0.5471428571428572\n",
      "arts - sports : Ksim=0.6093073962110781, Osim=0.5485714285714286\n",
      "arts - computers : Ksim=0.6002408574631479, Osim=0.5557142857142857\n",
      "business - news : Ksim=0.5909281736329146, Osim=0.5614285714285714\n",
      "games - reference : Ksim=0.5821852934243882, Osim=0.5700000000000001\n",
      "games - youth : Ksim=0.5771062859521473, Osim=0.5685714285714285\n",
      "home - recreation : Ksim=0.5764249694152507, Osim=0.5671428571428571\n",
      "arts - business : Ksim=0.5977623038369325, Osim=0.5357142857142857\n",
      "business - arts : Ksim=0.5976670657416944, Osim=0.5357142857142857\n",
      "shopping - arts : Ksim=0.6017914313839482, Osim=0.5314285714285715\n",
      "games - society : Ksim=0.5718416858206256, Osim=0.5571428571428572\n",
      "games - business : Ksim=0.5796484428787148, Osim=0.5471428571428572\n",
      "arts - society : Ksim=0.5863888494616785, Osim=0.54\n",
      "home - news : Ksim=0.5669297202138268, Osim=0.557142857142857\n",
      "games - health : Ksim=0.5750226895940838, Osim=0.5442857142857142\n",
      "home - games : Ksim=0.5591965499346911, Osim=0.5557142857142857\n",
      "games - shopping : Ksim=0.5783359944975874, Osim=0.5342857142857141\n",
      "games - sports : Ksim=0.574628548178932, Osim=0.5357142857142858\n",
      "world - games : Ksim=0.5644096803858406, Osim=0.5399999999999999\n",
      "shopping - news : Ksim=0.5729882208119476, Osim=0.5299999999999999\n",
      "arts - health : Ksim=0.5792724572985559, Osim=0.5228571428571428\n",
      "geography - recreation : Ksim=0.5657700019051948, Osim=0.5300000000000001\n",
      "arts - recreation : Ksim=0.5693728071040127, Osim=0.5157142857142857\n",
      "geography - news : Ksim=0.5648052710556835, Osim=0.5185714285714286\n",
      "games - arts : Ksim=0.5479546993996349, Osim=0.5099999999999999\n",
      "arts - news : Ksim=0.5443337285656489, Osim=0.5128571428571428\n",
      "games - geography : Ksim=0.5420978262855235, Osim=0.4799999999999998\n"
     ]
    }
   ],
   "execution_count": 53
  },
  {
   "metadata": {
    "ExecuteTime": {
     "end_time": "2024-05-22T07:50:35.206250Z",
     "start_time": "2024-05-22T07:50:35.191285Z"
    }
   },
   "cell_type": "code",
   "source": [
    "t = (\"games\", \"world\")\n",
    "\n",
    "a = [i for i in l if i[0][0] == t[0] and i[0][1] == t[1]]\n",
    "\n",
    "for i in a:\n",
    "    print(f\"{i[0][0]} - {i[0][1]} : Ksim={i[1][0]}, Osim={i[1][1]}\")"
   ],
   "outputs": [
    {
     "name": "stdout",
     "output_type": "stream",
     "text": [
      "games - world : Ksim=0.5642471118022193, Osim=0.5399999999999999\n"
     ]
    }
   ],
   "execution_count": 55
  },
  {
   "metadata": {},
   "cell_type": "markdown",
   "source": "## Table 6"
  },
  {
   "metadata": {
    "ExecuteTime": {
     "end_time": "2024-05-22T00:46:45.288095Z",
     "start_time": "2024-05-22T00:46:43.515858Z"
    }
   },
   "cell_type": "code",
   "source": [
    "for q in queries:\n",
    "    probas = get_probas_c_q(q, D, terms_indexes)\n",
    "    print(q)\n",
    "    for i in np.argsort(-probas)[:3]:\n",
    "        print(f\"{Topic_names[i]}: {probas[i]}\")\n",
    "        \n",
    "    print()"
   ],
   "outputs": [
    {
     "name": "stdout",
     "output_type": "stream",
     "text": [
      "affirmative action\n",
      "arts: 0.0625\n",
      "games: 0.0625\n",
      "youth: 0.0625\n",
      "\n",
      "alcoholism\n",
      "society: 0.31138485687527107\n",
      "health: 0.19262831108363515\n",
      "arts: 0.10568282429866296\n",
      "\n",
      "amusement parks\n",
      "arts: 0.0625\n",
      "games: 0.0625\n",
      "youth: 0.0625\n",
      "\n",
      "architecture\n",
      "computers: 0.42149124391537307\n",
      "arts: 0.13929719604111984\n",
      "health: 0.07928210669302674\n",
      "\n",
      "bicycling\n",
      "sports: 0.40679186780159465\n",
      "world: 0.2482707271924775\n",
      "recreation: 0.10682571994341371\n",
      "\n",
      "blues\n",
      "youth: 0.5887702960139773\n",
      "arts: 0.17032078470585055\n",
      "reference: 0.08722817897319757\n",
      "\n",
      "cheese\n",
      "world: 0.4694664697777181\n",
      "geography: 0.27097612960093775\n",
      "home: 0.12013278612529696\n",
      "\n",
      "citrus groves\n",
      "arts: 0.0625\n",
      "games: 0.0625\n",
      "youth: 0.0625\n",
      "\n",
      "classical guitar\n",
      "arts: 0.0625\n",
      "games: 0.0625\n",
      "youth: 0.0625\n",
      "\n",
      "computer vision\n",
      "arts: 0.0625\n",
      "games: 0.0625\n",
      "youth: 0.0625\n",
      "\n",
      "cruises\n",
      "home: 0.28526763631035906\n",
      "reference: 0.16847105410131505\n",
      "world: 0.1346733832289736\n",
      "\n",
      "death valley\n",
      "arts: 0.0625\n",
      "games: 0.0625\n",
      "youth: 0.0625\n",
      "\n",
      "field hockey\n",
      "arts: 0.0625\n",
      "games: 0.0625\n",
      "youth: 0.0625\n",
      "\n",
      "gardening\n",
      "society: 0.24772429565789458\n",
      "home: 0.19971220442235452\n",
      "reference: 0.19657403150192534\n",
      "\n",
      "graphic design\n",
      "arts: 0.0625\n",
      "games: 0.0625\n",
      "youth: 0.0625\n",
      "\n",
      "gulf war\n",
      "arts: 0.0625\n",
      "games: 0.0625\n",
      "youth: 0.0625\n",
      "\n",
      "hiv\n",
      "health: 0.3939790195813081\n",
      "youth: 0.2583905970579961\n",
      "society: 0.10874092200909603\n",
      "\n",
      "java\n",
      "computers: 0.19024952795763012\n",
      "science: 0.14607628770057024\n",
      "recreation: 0.12169185526421596\n",
      "\n",
      "lipari\n",
      "home: 1.0\n",
      "arts: 0.0\n",
      "games: 0.0\n",
      "\n",
      "lyme disease\n",
      "arts: 0.0625\n",
      "games: 0.0625\n",
      "youth: 0.0625\n",
      "\n",
      "mutual funds\n",
      "arts: 0.0625\n",
      "games: 0.0625\n",
      "youth: 0.0625\n",
      "\n",
      "national parks\n",
      "arts: 0.0625\n",
      "games: 0.0625\n",
      "youth: 0.0625\n",
      "\n",
      "parallel architecture\n",
      "arts: 0.0625\n",
      "games: 0.0625\n",
      "youth: 0.0625\n",
      "\n",
      "recycling cans\n",
      "arts: 0.0625\n",
      "games: 0.0625\n",
      "youth: 0.0625\n",
      "\n",
      "rock climbing\n",
      "arts: 0.0625\n",
      "games: 0.0625\n",
      "youth: 0.0625\n",
      "\n",
      "san francisco\n",
      "arts: 0.0625\n",
      "games: 0.0625\n",
      "youth: 0.0625\n",
      "\n",
      "shakespeare\n",
      "news: 0.4111476656248699\n",
      "arts: 0.23068320093307249\n",
      "home: 0.1107953363410588\n",
      "\n",
      "stamp collecting\n",
      "arts: 0.0625\n",
      "games: 0.0625\n",
      "youth: 0.0625\n",
      "\n",
      "sushi\n",
      "home: 0.6548073393028806\n",
      "youth: 0.06618178968313326\n",
      "shopping: 0.06325911118276628\n",
      "\n",
      "table tennis\n",
      "arts: 0.0625\n",
      "games: 0.0625\n",
      "youth: 0.0625\n",
      "\n",
      "telecommuting\n",
      "health: 1.0\n",
      "arts: 0.0\n",
      "games: 0.0\n",
      "\n",
      "vintage cars\n",
      "arts: 0.0625\n",
      "games: 0.0625\n",
      "youth: 0.0625\n",
      "\n",
      "volcano\n",
      "recreation: 0.22613029285973255\n",
      "home: 0.1885917682960948\n",
      "games: 0.10737483080534589\n",
      "\n",
      "zen buddhism\n",
      "arts: 0.0625\n",
      "games: 0.0625\n",
      "youth: 0.0625\n",
      "\n",
      "zener\n",
      "science: 0.8254232127462665\n",
      "society: 0.1745767872537335\n",
      "arts: 0.0\n",
      "\n"
     ]
    }
   ],
   "execution_count": 37
  },
  {
   "metadata": {},
   "cell_type": "markdown",
   "source": "## Table 7"
  },
  {
   "metadata": {
    "ExecuteTime": {
     "end_time": "2024-05-22T08:00:12.888619Z",
     "start_time": "2024-05-22T07:59:57.308319Z"
    }
   },
   "cell_type": "code",
   "source": [
    "queries = [\"alcoholism\", \"bicycling\", \"citrus groves\", \"computer vision\", \"death valley\", \"graphic design\", \"gulf war\", \"hiv\", \"shakespeare\", \"table tennis\"]\n",
    "\n",
    "for q in queries:\n",
    "    print(q)\n",
    "    \n",
    "    with open(f\"Rankings/normal.json\", 'r') as f:\n",
    "        normal = json.load(f)\n",
    "        ranking_normal = normal[q]\n",
    "        \n",
    "    ranking_topic = sqd(q, topic_pagerank, D, terms_indexes, index).tolist()\n",
    "    \n",
    "    \n",
    "    print(\"Normal PageRank\")\n",
    "    for i in range(min(10, len(ranking_normal))):\n",
    "        print(f\"{i+1}. {ranking_normal[i]}\")\n",
    "        \n",
    "    print(\"\\nTopic-sensitive PageRank\")\n",
    "    for i in range(min(10, len(ranking_topic))):\n",
    "        print(f\"{i+1}. {ranking_topic[i]}\")\n",
    "        \n",
    "    print()\n",
    "\n",
    "\n"
   ],
   "outputs": [
    {
     "name": "stdout",
     "output_type": "stream",
     "text": [
      "alcoholism\n",
      "Normal PageRank\n",
      "1. Shameless (British TV series)\n",
      "2. I will moida da bum\n",
      "3. Million Women Study\n",
      "4. Violence and video games\n",
      "5. Chafing dish\n",
      "6. Maxim Wien\n",
      "7. List of Stargate Universe characters\n",
      "8. Drug control classes (UK)\n",
      "9. Crowd abuse\n",
      "10. Outline of wine\n",
      "\n",
      "Topic-sensitive PageRank\n",
      "1. Shameless (British TV series)\n",
      "2. I will moida da bum\n",
      "3. Violence and video games\n",
      "4. Million Women Study\n",
      "5. List of Stargate Universe characters\n",
      "6. Maxim Wien\n",
      "7. Chafing dish\n",
      "8. Crowd abuse\n",
      "9. Outline of wine\n",
      "10. List of Fate/Grand Order characters\n",
      "\n",
      "bicycling\n",
      "Normal PageRank\n",
      "1. Pannier\n",
      "2. Conceptual art\n",
      "3. Intel\n",
      "4. Global Alliance for EcoMobility\n",
      "5. List of Colorado geographic features lists\n",
      "6. Japanese war crimes\n",
      "7. Alan Turing\n",
      "8. Element (sports)\n",
      "9. Art film\n",
      "10. Lists of sovereign states and dependent territories\n",
      "\n",
      "Topic-sensitive PageRank\n",
      "1. Pannier\n",
      "2. Conceptual art\n",
      "3. Intel\n",
      "4. Global Alliance for EcoMobility\n",
      "5. List of Colorado geographic features lists\n",
      "6. Japanese war crimes\n",
      "7. Alan Turing\n",
      "8. Lists of sovereign states and dependent territories\n",
      "9. Art film\n",
      "10. DeLorme\n",
      "\n",
      "citrus groves\n",
      "Normal PageRank\n",
      "1. Nanfang Caomu Zhuang\n",
      "2. Arts District, Los Angeles\n",
      "3. Soarin'\n",
      "\n",
      "Topic-sensitive PageRank\n",
      "1. Nanfang Caomu Zhuang\n",
      "2. Arts District, Los Angeles\n",
      "3. Soarin'\n",
      "\n",
      "computer vision\n",
      "Normal PageRank\n",
      "1. Art\n",
      "2. Imaging informatics\n",
      "3. Computer-aided diagnosis\n",
      "4. Conceptual art\n",
      "5. Holocaust denial\n",
      "6. Intel\n",
      "7. Fine art\n",
      "8. Government by algorithm\n",
      "9. Hallucination (artificial intelligence)\n",
      "10. The arts\n",
      "\n",
      "Topic-sensitive PageRank\n",
      "1. Art\n",
      "2. Imaging informatics\n",
      "3. Computer-aided diagnosis\n",
      "4. Conceptual art\n",
      "5. Holocaust denial\n",
      "6. The arts\n",
      "7. Hallucination (artificial intelligence)\n",
      "8. Government by algorithm\n",
      "9. Fine art\n",
      "10. Intel\n",
      "\n",
      "death valley\n",
      "Normal PageRank\n",
      "1. Painting\n",
      "2. Biological hazard\n",
      "3. I will moida da bum\n",
      "4. Disease surveillance\n",
      "5. Poetry\n",
      "6. Mode of production\n",
      "7. Microsoft\n",
      "8. Narrative\n",
      "9. Demographics of the world\n",
      "10. Eastern Bloc media and propaganda\n",
      "\n",
      "Topic-sensitive PageRank\n",
      "1. Painting\n",
      "2. Biological hazard\n",
      "3. I will moida da bum\n",
      "4. Disease surveillance\n",
      "5. Poetry\n",
      "6. Mode of production\n",
      "7. Microsoft\n",
      "8. Narrative\n",
      "9. Demographics of the world\n",
      "10. Eastern Bloc media and propaganda\n",
      "\n",
      "graphic design\n",
      "Normal PageRank\n",
      "1. Art\n",
      "2. Museum\n",
      "3. Imaging informatics\n",
      "4. Shuttle Inc.\n",
      "5. Computer-aided diagnosis\n",
      "6. Painting\n",
      "7. Performance art\n",
      "8. Retail design\n",
      "9. Holocaust denial\n",
      "10. List of Battlestar Galactica video games\n",
      "\n",
      "Topic-sensitive PageRank\n",
      "1. Art\n",
      "2. Museum\n",
      "3. Imaging informatics\n",
      "4. Shuttle Inc.\n",
      "5. Computer-aided diagnosis\n",
      "6. Painting\n",
      "7. Retail design\n",
      "8. Performance art\n",
      "9. List of Battlestar Galactica video games\n",
      "10. Holocaust denial\n",
      "\n",
      "gulf war\n",
      "Normal PageRank\n",
      "1. Khosrow I\n",
      "2. Red Sea\n",
      "3. Japanese war crimes\n",
      "4. History of Earth\n",
      "5. Art film\n",
      "6. Information warfare\n",
      "7. Film industry\n",
      "8. History and culture of substituted amphetamines\n",
      "9. Surveillance\n",
      "10. Early world maps\n",
      "\n",
      "Topic-sensitive PageRank\n",
      "1. Khosrow I\n",
      "2. Red Sea\n",
      "3. Japanese war crimes\n",
      "4. History of Earth\n",
      "5. Art film\n",
      "6. Information warfare\n",
      "7. Film industry\n",
      "8. History and culture of substituted amphetamines\n",
      "9. Surveillance\n",
      "10. Environmental peacebuilding\n",
      "\n",
      "hiv\n",
      "Normal PageRank\n",
      "1. Performance art\n",
      "2. Biological hazard\n",
      "3. Outline of human sexuality\n",
      "4. Durban Youth Council\n",
      "5. Disease surveillance\n",
      "6. List of Stargate Universe characters\n",
      "7. EuResist\n",
      "8. Cochrane US Network\n",
      "9. Rosetta@home\n",
      "10. Contact tracing\n",
      "\n",
      "Topic-sensitive PageRank\n",
      "1. Performance art\n",
      "2. Durban Youth Council\n",
      "3. Outline of human sexuality\n",
      "4. List of Stargate Universe characters\n",
      "5. Biological hazard\n",
      "6. Disease surveillance\n",
      "7. Punk subculture\n",
      "8. EuResist\n",
      "9. Contact tracing\n",
      "10. Cochrane US Network\n",
      "\n",
      "shakespeare\n",
      "Normal PageRank\n",
      "1. I will moida da bum\n",
      "2. Fine art\n",
      "3. Croydon Youth Theatre Organisation\n",
      "4. Patronage\n",
      "5. Poetry\n",
      "6. Plagiarism\n",
      "7. Narrative\n",
      "8. Pseudohistory\n",
      "9. Satchel\n",
      "10. Pig Latin\n",
      "\n",
      "Topic-sensitive PageRank\n",
      "1. I will moida da bum\n",
      "2. Fine art\n",
      "3. Pseudohistory\n",
      "4. Patronage\n",
      "5. Croydon Youth Theatre Organisation\n",
      "6. Poetry\n",
      "7. Plagiarism\n",
      "8. Theory of art\n",
      "9. Pig Latin\n",
      "10. Narrative\n",
      "\n",
      "table tennis\n",
      "Normal PageRank\n",
      "1. List of types of football\n",
      "2. Sportscotland\n",
      "3. 1991 European Youth Olympic Days\n",
      "4. Youth in Denmark\n",
      "5. Jinx Falkenburg\n",
      "6. List of Christmas dishes\n",
      "7. Mar Vista, Los Angeles\n",
      "8. Salver\n",
      "9. 59 Club\n",
      "10. Lisa Loud\n",
      "\n",
      "Topic-sensitive PageRank\n",
      "1. List of types of football\n",
      "2. Sportscotland\n",
      "3. 1991 European Youth Olympic Days\n",
      "4. Youth in Denmark\n",
      "5. Jinx Falkenburg\n",
      "6. List of Christmas dishes\n",
      "7. Mar Vista, Los Angeles\n",
      "8. Salver\n",
      "9. 59 Club\n",
      "10. Lisa Loud\n",
      "\n"
     ]
    }
   ],
   "execution_count": 68
  },
  {
   "metadata": {},
   "cell_type": "code",
   "outputs": [],
   "execution_count": null,
   "source": ""
  }
 ],
 "metadata": {
  "kernelspec": {
   "display_name": "base",
   "language": "python",
   "name": "python3"
  },
  "language_info": {
   "codemirror_mode": {
    "name": "ipython",
    "version": 3
   },
   "file_extension": ".py",
   "mimetype": "text/x-python",
   "name": "python",
   "nbconvert_exporter": "python",
   "pygments_lexer": "ipython3",
   "version": "3.11.4"
  }
 },
 "nbformat": 4,
 "nbformat_minor": 2
}
